{
 "cells": [
  {
   "cell_type": "code",
   "execution_count": 1,
   "metadata": {},
   "outputs": [],
   "source": [
    "import pandas as pd\n",
    "import numpy as np\n",
    "import matplotlib.pyplot as plt\n",
    "import seaborn as sns\n",
    "\n",
    "%matplotlib inline"
   ]
  },
  {
   "cell_type": "markdown",
   "metadata": {},
   "source": [
    "## The Data\n",
    "\n",
    "**Read the yelp.csv file and set it as a dataframe called df.**"
   ]
  },
  {
   "cell_type": "code",
   "execution_count": 2,
   "metadata": {},
   "outputs": [],
   "source": [
    "df = pd.read_csv('train.csv')"
   ]
  },
  {
   "cell_type": "markdown",
   "metadata": {},
   "source": [
    "** Check the head, info , and describe methods on df.**"
   ]
  },
  {
   "cell_type": "code",
   "execution_count": 3,
   "metadata": {},
   "outputs": [
    {
     "data": {
      "text/html": [
       "<div>\n",
       "<style scoped>\n",
       "    .dataframe tbody tr th:only-of-type {\n",
       "        vertical-align: middle;\n",
       "    }\n",
       "\n",
       "    .dataframe tbody tr th {\n",
       "        vertical-align: top;\n",
       "    }\n",
       "\n",
       "    .dataframe thead th {\n",
       "        text-align: right;\n",
       "    }\n",
       "</style>\n",
       "<table border=\"1\" class=\"dataframe\">\n",
       "  <thead>\n",
       "    <tr style=\"text-align: right;\">\n",
       "      <th></th>\n",
       "      <th>id</th>\n",
       "      <th>keyword</th>\n",
       "      <th>location</th>\n",
       "      <th>text</th>\n",
       "      <th>target</th>\n",
       "    </tr>\n",
       "  </thead>\n",
       "  <tbody>\n",
       "    <tr>\n",
       "      <td>0</td>\n",
       "      <td>1</td>\n",
       "      <td>NaN</td>\n",
       "      <td>NaN</td>\n",
       "      <td>Our Deeds are the Reason of this #earthquake M...</td>\n",
       "      <td>1</td>\n",
       "    </tr>\n",
       "    <tr>\n",
       "      <td>1</td>\n",
       "      <td>4</td>\n",
       "      <td>NaN</td>\n",
       "      <td>NaN</td>\n",
       "      <td>Forest fire near La Ronge Sask. Canada</td>\n",
       "      <td>1</td>\n",
       "    </tr>\n",
       "    <tr>\n",
       "      <td>2</td>\n",
       "      <td>5</td>\n",
       "      <td>NaN</td>\n",
       "      <td>NaN</td>\n",
       "      <td>All residents asked to 'shelter in place' are ...</td>\n",
       "      <td>1</td>\n",
       "    </tr>\n",
       "    <tr>\n",
       "      <td>3</td>\n",
       "      <td>6</td>\n",
       "      <td>NaN</td>\n",
       "      <td>NaN</td>\n",
       "      <td>13,000 people receive #wildfires evacuation or...</td>\n",
       "      <td>1</td>\n",
       "    </tr>\n",
       "    <tr>\n",
       "      <td>4</td>\n",
       "      <td>7</td>\n",
       "      <td>NaN</td>\n",
       "      <td>NaN</td>\n",
       "      <td>Just got sent this photo from Ruby #Alaska as ...</td>\n",
       "      <td>1</td>\n",
       "    </tr>\n",
       "  </tbody>\n",
       "</table>\n",
       "</div>"
      ],
      "text/plain": [
       "   id keyword location                                               text  \\\n",
       "0   1     NaN      NaN  Our Deeds are the Reason of this #earthquake M...   \n",
       "1   4     NaN      NaN             Forest fire near La Ronge Sask. Canada   \n",
       "2   5     NaN      NaN  All residents asked to 'shelter in place' are ...   \n",
       "3   6     NaN      NaN  13,000 people receive #wildfires evacuation or...   \n",
       "4   7     NaN      NaN  Just got sent this photo from Ruby #Alaska as ...   \n",
       "\n",
       "   target  \n",
       "0       1  \n",
       "1       1  \n",
       "2       1  \n",
       "3       1  \n",
       "4       1  "
      ]
     },
     "execution_count": 3,
     "metadata": {},
     "output_type": "execute_result"
    }
   ],
   "source": [
    "df.head()"
   ]
  },
  {
   "cell_type": "code",
   "execution_count": 4,
   "metadata": {},
   "outputs": [
    {
     "data": {
      "text/html": [
       "<div>\n",
       "<style scoped>\n",
       "    .dataframe tbody tr th:only-of-type {\n",
       "        vertical-align: middle;\n",
       "    }\n",
       "\n",
       "    .dataframe tbody tr th {\n",
       "        vertical-align: top;\n",
       "    }\n",
       "\n",
       "    .dataframe thead th {\n",
       "        text-align: right;\n",
       "    }\n",
       "</style>\n",
       "<table border=\"1\" class=\"dataframe\">\n",
       "  <thead>\n",
       "    <tr style=\"text-align: right;\">\n",
       "      <th></th>\n",
       "      <th>id</th>\n",
       "      <th>target</th>\n",
       "    </tr>\n",
       "  </thead>\n",
       "  <tbody>\n",
       "    <tr>\n",
       "      <td>count</td>\n",
       "      <td>7613.000000</td>\n",
       "      <td>7613.00000</td>\n",
       "    </tr>\n",
       "    <tr>\n",
       "      <td>mean</td>\n",
       "      <td>5441.934848</td>\n",
       "      <td>0.42966</td>\n",
       "    </tr>\n",
       "    <tr>\n",
       "      <td>std</td>\n",
       "      <td>3137.116090</td>\n",
       "      <td>0.49506</td>\n",
       "    </tr>\n",
       "    <tr>\n",
       "      <td>min</td>\n",
       "      <td>1.000000</td>\n",
       "      <td>0.00000</td>\n",
       "    </tr>\n",
       "    <tr>\n",
       "      <td>25%</td>\n",
       "      <td>2734.000000</td>\n",
       "      <td>0.00000</td>\n",
       "    </tr>\n",
       "    <tr>\n",
       "      <td>50%</td>\n",
       "      <td>5408.000000</td>\n",
       "      <td>0.00000</td>\n",
       "    </tr>\n",
       "    <tr>\n",
       "      <td>75%</td>\n",
       "      <td>8146.000000</td>\n",
       "      <td>1.00000</td>\n",
       "    </tr>\n",
       "    <tr>\n",
       "      <td>max</td>\n",
       "      <td>10873.000000</td>\n",
       "      <td>1.00000</td>\n",
       "    </tr>\n",
       "  </tbody>\n",
       "</table>\n",
       "</div>"
      ],
      "text/plain": [
       "                 id      target\n",
       "count   7613.000000  7613.00000\n",
       "mean    5441.934848     0.42966\n",
       "std     3137.116090     0.49506\n",
       "min        1.000000     0.00000\n",
       "25%     2734.000000     0.00000\n",
       "50%     5408.000000     0.00000\n",
       "75%     8146.000000     1.00000\n",
       "max    10873.000000     1.00000"
      ]
     },
     "execution_count": 4,
     "metadata": {},
     "output_type": "execute_result"
    }
   ],
   "source": [
    "df.describe()"
   ]
  },
  {
   "cell_type": "code",
   "execution_count": 5,
   "metadata": {},
   "outputs": [
    {
     "name": "stdout",
     "output_type": "stream",
     "text": [
      "<class 'pandas.core.frame.DataFrame'>\n",
      "RangeIndex: 7613 entries, 0 to 7612\n",
      "Data columns (total 5 columns):\n",
      "id          7613 non-null int64\n",
      "keyword     7552 non-null object\n",
      "location    5080 non-null object\n",
      "text        7613 non-null object\n",
      "target      7613 non-null int64\n",
      "dtypes: int64(2), object(3)\n",
      "memory usage: 297.5+ KB\n"
     ]
    }
   ],
   "source": [
    "df.info()"
   ]
  },
  {
   "cell_type": "markdown",
   "metadata": {},
   "source": [
    "** There are some missing values on keyword and location, but we can't simply drop the missing entries given the large portion of missing data in location. Will explore feature engineering on later steps.**"
   ]
  },
  {
   "cell_type": "markdown",
   "metadata": {},
   "source": [
    "#### **Create a new column called \"length\" which is the number of words in the text column.**"
   ]
  },
  {
   "cell_type": "code",
   "execution_count": 5,
   "metadata": {},
   "outputs": [],
   "source": [
    "df['length'] = df['text'].apply(len)"
   ]
  },
  {
   "cell_type": "code",
   "execution_count": 6,
   "metadata": {},
   "outputs": [
    {
     "data": {
      "text/html": [
       "<div>\n",
       "<style scoped>\n",
       "    .dataframe tbody tr th:only-of-type {\n",
       "        vertical-align: middle;\n",
       "    }\n",
       "\n",
       "    .dataframe tbody tr th {\n",
       "        vertical-align: top;\n",
       "    }\n",
       "\n",
       "    .dataframe thead th {\n",
       "        text-align: right;\n",
       "    }\n",
       "</style>\n",
       "<table border=\"1\" class=\"dataframe\">\n",
       "  <thead>\n",
       "    <tr style=\"text-align: right;\">\n",
       "      <th></th>\n",
       "      <th>id</th>\n",
       "      <th>keyword</th>\n",
       "      <th>location</th>\n",
       "      <th>text</th>\n",
       "      <th>target</th>\n",
       "      <th>length</th>\n",
       "    </tr>\n",
       "  </thead>\n",
       "  <tbody>\n",
       "    <tr>\n",
       "      <td>0</td>\n",
       "      <td>1</td>\n",
       "      <td>NaN</td>\n",
       "      <td>NaN</td>\n",
       "      <td>Our Deeds are the Reason of this #earthquake M...</td>\n",
       "      <td>1</td>\n",
       "      <td>69</td>\n",
       "    </tr>\n",
       "    <tr>\n",
       "      <td>1</td>\n",
       "      <td>4</td>\n",
       "      <td>NaN</td>\n",
       "      <td>NaN</td>\n",
       "      <td>Forest fire near La Ronge Sask. Canada</td>\n",
       "      <td>1</td>\n",
       "      <td>38</td>\n",
       "    </tr>\n",
       "    <tr>\n",
       "      <td>2</td>\n",
       "      <td>5</td>\n",
       "      <td>NaN</td>\n",
       "      <td>NaN</td>\n",
       "      <td>All residents asked to 'shelter in place' are ...</td>\n",
       "      <td>1</td>\n",
       "      <td>133</td>\n",
       "    </tr>\n",
       "    <tr>\n",
       "      <td>3</td>\n",
       "      <td>6</td>\n",
       "      <td>NaN</td>\n",
       "      <td>NaN</td>\n",
       "      <td>13,000 people receive #wildfires evacuation or...</td>\n",
       "      <td>1</td>\n",
       "      <td>65</td>\n",
       "    </tr>\n",
       "    <tr>\n",
       "      <td>4</td>\n",
       "      <td>7</td>\n",
       "      <td>NaN</td>\n",
       "      <td>NaN</td>\n",
       "      <td>Just got sent this photo from Ruby #Alaska as ...</td>\n",
       "      <td>1</td>\n",
       "      <td>88</td>\n",
       "    </tr>\n",
       "  </tbody>\n",
       "</table>\n",
       "</div>"
      ],
      "text/plain": [
       "   id keyword location                                               text  \\\n",
       "0   1     NaN      NaN  Our Deeds are the Reason of this #earthquake M...   \n",
       "1   4     NaN      NaN             Forest fire near La Ronge Sask. Canada   \n",
       "2   5     NaN      NaN  All residents asked to 'shelter in place' are ...   \n",
       "3   6     NaN      NaN  13,000 people receive #wildfires evacuation or...   \n",
       "4   7     NaN      NaN  Just got sent this photo from Ruby #Alaska as ...   \n",
       "\n",
       "   target  length  \n",
       "0       1      69  \n",
       "1       1      38  \n",
       "2       1     133  \n",
       "3       1      65  \n",
       "4       1      88  "
      ]
     },
     "execution_count": 6,
     "metadata": {},
     "output_type": "execute_result"
    }
   ],
   "source": [
    "df.head()"
   ]
  },
  {
   "cell_type": "markdown",
   "metadata": {},
   "source": [
    "## EDA"
   ]
  },
  {
   "cell_type": "code",
   "execution_count": 7,
   "metadata": {},
   "outputs": [
    {
     "data": {
      "image/png": "[encoded data removed]",
      "text/plain": [
       "<Figure size 432x216 with 2 Axes>"
      ]
     },
     "metadata": {
      "needs_background": "light"
     },
     "output_type": "display_data"
    }
   ],
   "source": [
    "g = sns.FacetGrid(df, col = 'target')\n",
    "g = g.map(plt.hist, 'length')"
   ]
  },
  {
   "cell_type": "markdown",
   "metadata": {},
   "source": [
    "** From the histogram above, no clear difference on text length between disaster tweets and non-disaster tweets. **"
   ]
  },
  {
   "cell_type": "code",
   "execution_count": 8,
   "metadata": {},
   "outputs": [
    {
     "data": {
      "text/plain": [
       "<matplotlib.axes._subplots.AxesSubplot at 0x1a2533a8d0>"
      ]
     },
     "execution_count": 8,
     "metadata": {},
     "output_type": "execute_result"
    },
    {
     "data": {
      "image/png": "[encoded data removed]",
      "text/plain": [
       "<Figure size 432x288 with 1 Axes>"
      ]
     },
     "metadata": {
      "needs_background": "light"
     },
     "output_type": "display_data"
    }
   ],
   "source": [
    "sns.boxplot(x = 'target', y = 'length', data = df, palette = 'rainbow')"
   ]
  },
  {
   "cell_type": "markdown",
   "metadata": {},
   "source": [
    "** Based on the box plot, disaster tweets has higher average text length than non-disaster tweets. **"
   ]
  },
  {
   "cell_type": "code",
   "execution_count": 9,
   "metadata": {},
   "outputs": [
    {
     "data": {
      "text/plain": [
       "3341"
      ]
     },
     "execution_count": 9,
     "metadata": {},
     "output_type": "execute_result"
    }
   ],
   "source": [
    "df['location'].nunique()"
   ]
  },
  {
   "cell_type": "code",
   "execution_count": 10,
   "metadata": {},
   "outputs": [
    {
     "data": {
      "text/plain": [
       "USA                   104\n",
       "New York               71\n",
       "United States          50\n",
       "London                 45\n",
       "Canada                 29\n",
       "                     ... \n",
       "MÌ©rida, YucatÌÁn       1\n",
       "Miami ??                1\n",
       "Pittsburgh              1\n",
       "Virgo Supercluster      1\n",
       "St. Louis               1\n",
       "Name: location, Length: 3341, dtype: int64"
      ]
     },
     "execution_count": 10,
     "metadata": {},
     "output_type": "execute_result"
    }
   ],
   "source": [
    "df['location'].value_counts()"
   ]
  },
  {
   "cell_type": "code",
   "execution_count": 11,
   "metadata": {},
   "outputs": [
    {
     "data": {
      "text/plain": [
       "1513"
      ]
     },
     "execution_count": 11,
     "metadata": {},
     "output_type": "execute_result"
    }
   ],
   "source": [
    "df[df['target'] == 1]['location'].nunique()\n",
    "# Disaster locations have 1513 entrees"
   ]
  },
  {
   "cell_type": "code",
   "execution_count": 12,
   "metadata": {},
   "outputs": [
    {
     "data": {
      "text/plain": [
       "2142"
      ]
     },
     "execution_count": 12,
     "metadata": {},
     "output_type": "execute_result"
    }
   ],
   "source": [
    "df[df['target'] == 0]['location'].nunique()\n",
    "# Non-disaster locations are 2142"
   ]
  },
  {
   "cell_type": "code",
   "execution_count": 13,
   "metadata": {},
   "outputs": [
    {
     "data": {
      "text/plain": [
       "count     5080\n",
       "unique    3341\n",
       "top        USA\n",
       "freq       104\n",
       "Name: location, dtype: object"
      ]
     },
     "execution_count": 13,
     "metadata": {},
     "output_type": "execute_result"
    }
   ],
   "source": [
    "df['location'].describe()\n",
    "# Total unique locations are 3341, and only 5080 locations are recorded. \n",
    "# We have in total 7613 tweets, so around 37% of location data is missing."
   ]
  },
  {
   "cell_type": "markdown",
   "metadata": {},
   "source": [
    "** Let's first try only using text as X to feed in the model. **"
   ]
  },
  {
   "cell_type": "markdown",
   "metadata": {},
   "source": [
    "## Text Pre-processing"
   ]
  },
  {
   "cell_type": "markdown",
   "metadata": {},
   "source": [
    "Preprocessing target: convert the raw messages (sequence of characters) into vectors (sequences of numbers) -> creating bag of words.\n",
    "As a first step, let's write a function that will split a message into its individual words and return a list."
   ]
  },
  {
   "cell_type": "code",
   "execution_count": 72,
   "metadata": {},
   "outputs": [
    {
     "name": "stderr",
     "output_type": "stream",
     "text": [
      "[nltk_data] Downloading package stopwords to\n",
      "[nltk_data]     /Users/jennie/nltk_data...\n",
      "[nltk_data]   Package stopwords is already up-to-date!\n"
     ]
    }
   ],
   "source": [
    "import string\n",
    "import nltk\n",
    "nltk.download('stopwords')\n",
    "import re\n",
    "from bs4 import BeautifulSoup             "
   ]
  },
  {
   "cell_type": "code",
   "execution_count": null,
   "metadata": {},
   "outputs": [],
   "source": []
  },
  {
   "cell_type": "code",
   "execution_count": 82,
   "metadata": {},
   "outputs": [],
   "source": [
    "def text_process(mess):\n",
    "    \"\"\"\n",
    "    Takes in a string of text, then performs the following:\n",
    "    1. Tansform the string to lower case\n",
    "    1. Remove all punctuation\n",
    "    2. Remove all stopwords\n",
    "    3. Returns a list of the cleaned text\n",
    "    \"\"\"\n",
    "    \n",
    "    # Convert the string to lower case\n",
    "    mess = mess.lower()\n",
    "    # Check characters to see if they are in punctuation\n",
    "    nopunc = [char for char in mess if char not in string.punctuation]\n",
    "    # Use regular expressions to do a find-and-replace\n",
    "    replace_number = re.sub('[0-1000000000]', 'number', mess)\n",
    "    letters_only = re.sub(\"[^a-zA-Z]\", \" \", mess ) \n",
    "\n",
    "    # Join the characters again to form the string.\n",
    "    nopunc = ''.join(letters_only)\n",
    "    \n",
    "    # Now just remove any stopwords\n",
    "    return (' ').join(word for word in nopunc.split() if word not in stopwords.words('english'))"
   ]
  },
  {
   "cell_type": "markdown",
   "metadata": {},
   "source": [
    "Next step: tokenization -> tokenize the text in to a list of tokens."
   ]
  },
  {
   "cell_type": "code",
   "execution_count": 83,
   "metadata": {},
   "outputs": [
    {
     "data": {
      "text/plain": [
       "0         deeds reason earthquake may allah forgive us\n",
       "1                forest fire near la ronge sask canada\n",
       "2    residents asked shelter place notified officer...\n",
       "3    people receive wildfires evacuation orders cal...\n",
       "4    got sent photo ruby alaska smoke wildfires pou...\n",
       "Name: text, dtype: object"
      ]
     },
     "execution_count": 83,
     "metadata": {},
     "output_type": "execute_result"
    }
   ],
   "source": [
    "from nltk.corpus import stopwords\n",
    "df['text'].head(5).apply(text_process)"
   ]
  },
  {
   "cell_type": "code",
   "execution_count": 95,
   "metadata": {},
   "outputs": [],
   "source": [
    "# Create a new variable named tokens for the above process\n",
    "df['tokens'] = df['text'].apply(text_process)"
   ]
  },
  {
   "cell_type": "code",
   "execution_count": 96,
   "metadata": {},
   "outputs": [
    {
     "data": {
      "text/html": [
       "<div>\n",
       "<style scoped>\n",
       "    .dataframe tbody tr th:only-of-type {\n",
       "        vertical-align: middle;\n",
       "    }\n",
       "\n",
       "    .dataframe tbody tr th {\n",
       "        vertical-align: top;\n",
       "    }\n",
       "\n",
       "    .dataframe thead th {\n",
       "        text-align: right;\n",
       "    }\n",
       "</style>\n",
       "<table border=\"1\" class=\"dataframe\">\n",
       "  <thead>\n",
       "    <tr style=\"text-align: right;\">\n",
       "      <th></th>\n",
       "      <th>id</th>\n",
       "      <th>keyword</th>\n",
       "      <th>location</th>\n",
       "      <th>text</th>\n",
       "      <th>target</th>\n",
       "      <th>length</th>\n",
       "      <th>tokens</th>\n",
       "    </tr>\n",
       "  </thead>\n",
       "  <tbody>\n",
       "    <tr>\n",
       "      <td>0</td>\n",
       "      <td>1</td>\n",
       "      <td>NaN</td>\n",
       "      <td>NaN</td>\n",
       "      <td>Our Deeds are the Reason of this #earthquake M...</td>\n",
       "      <td>1</td>\n",
       "      <td>69</td>\n",
       "      <td>deeds reason earthquake may allah forgive us</td>\n",
       "    </tr>\n",
       "    <tr>\n",
       "      <td>1</td>\n",
       "      <td>4</td>\n",
       "      <td>NaN</td>\n",
       "      <td>NaN</td>\n",
       "      <td>Forest fire near La Ronge Sask. Canada</td>\n",
       "      <td>1</td>\n",
       "      <td>38</td>\n",
       "      <td>forest fire near la ronge sask canada</td>\n",
       "    </tr>\n",
       "    <tr>\n",
       "      <td>2</td>\n",
       "      <td>5</td>\n",
       "      <td>NaN</td>\n",
       "      <td>NaN</td>\n",
       "      <td>All residents asked to 'shelter in place' are ...</td>\n",
       "      <td>1</td>\n",
       "      <td>133</td>\n",
       "      <td>residents asked shelter place notified officer...</td>\n",
       "    </tr>\n",
       "    <tr>\n",
       "      <td>3</td>\n",
       "      <td>6</td>\n",
       "      <td>NaN</td>\n",
       "      <td>NaN</td>\n",
       "      <td>13,000 people receive #wildfires evacuation or...</td>\n",
       "      <td>1</td>\n",
       "      <td>65</td>\n",
       "      <td>people receive wildfires evacuation orders cal...</td>\n",
       "    </tr>\n",
       "    <tr>\n",
       "      <td>4</td>\n",
       "      <td>7</td>\n",
       "      <td>NaN</td>\n",
       "      <td>NaN</td>\n",
       "      <td>Just got sent this photo from Ruby #Alaska as ...</td>\n",
       "      <td>1</td>\n",
       "      <td>88</td>\n",
       "      <td>got sent photo ruby alaska smoke wildfires pou...</td>\n",
       "    </tr>\n",
       "    <tr>\n",
       "      <td>5</td>\n",
       "      <td>8</td>\n",
       "      <td>NaN</td>\n",
       "      <td>NaN</td>\n",
       "      <td>#RockyFire Update =&gt; California Hwy. 20 closed...</td>\n",
       "      <td>1</td>\n",
       "      <td>110</td>\n",
       "      <td>rockyfire update california hwy closed directi...</td>\n",
       "    </tr>\n",
       "    <tr>\n",
       "      <td>6</td>\n",
       "      <td>10</td>\n",
       "      <td>NaN</td>\n",
       "      <td>NaN</td>\n",
       "      <td>#flood #disaster Heavy rain causes flash flood...</td>\n",
       "      <td>1</td>\n",
       "      <td>95</td>\n",
       "      <td>flood disaster heavy rain causes flash floodin...</td>\n",
       "    </tr>\n",
       "    <tr>\n",
       "      <td>7</td>\n",
       "      <td>13</td>\n",
       "      <td>NaN</td>\n",
       "      <td>NaN</td>\n",
       "      <td>I'm on top of the hill and I can see a fire in...</td>\n",
       "      <td>1</td>\n",
       "      <td>59</td>\n",
       "      <td>top hill see fire woods</td>\n",
       "    </tr>\n",
       "    <tr>\n",
       "      <td>8</td>\n",
       "      <td>14</td>\n",
       "      <td>NaN</td>\n",
       "      <td>NaN</td>\n",
       "      <td>There's an emergency evacuation happening now ...</td>\n",
       "      <td>1</td>\n",
       "      <td>79</td>\n",
       "      <td>emergency evacuation happening building across...</td>\n",
       "    </tr>\n",
       "    <tr>\n",
       "      <td>9</td>\n",
       "      <td>15</td>\n",
       "      <td>NaN</td>\n",
       "      <td>NaN</td>\n",
       "      <td>I'm afraid that the tornado is coming to our a...</td>\n",
       "      <td>1</td>\n",
       "      <td>52</td>\n",
       "      <td>afraid tornado coming area</td>\n",
       "    </tr>\n",
       "  </tbody>\n",
       "</table>\n",
       "</div>"
      ],
      "text/plain": [
       "   id keyword location                                               text  \\\n",
       "0   1     NaN      NaN  Our Deeds are the Reason of this #earthquake M...   \n",
       "1   4     NaN      NaN             Forest fire near La Ronge Sask. Canada   \n",
       "2   5     NaN      NaN  All residents asked to 'shelter in place' are ...   \n",
       "3   6     NaN      NaN  13,000 people receive #wildfires evacuation or...   \n",
       "4   7     NaN      NaN  Just got sent this photo from Ruby #Alaska as ...   \n",
       "5   8     NaN      NaN  #RockyFire Update => California Hwy. 20 closed...   \n",
       "6  10     NaN      NaN  #flood #disaster Heavy rain causes flash flood...   \n",
       "7  13     NaN      NaN  I'm on top of the hill and I can see a fire in...   \n",
       "8  14     NaN      NaN  There's an emergency evacuation happening now ...   \n",
       "9  15     NaN      NaN  I'm afraid that the tornado is coming to our a...   \n",
       "\n",
       "   target  length                                             tokens  \n",
       "0       1      69       deeds reason earthquake may allah forgive us  \n",
       "1       1      38              forest fire near la ronge sask canada  \n",
       "2       1     133  residents asked shelter place notified officer...  \n",
       "3       1      65  people receive wildfires evacuation orders cal...  \n",
       "4       1      88  got sent photo ruby alaska smoke wildfires pou...  \n",
       "5       1     110  rockyfire update california hwy closed directi...  \n",
       "6       1      95  flood disaster heavy rain causes flash floodin...  \n",
       "7       1      59                            top hill see fire woods  \n",
       "8       1      79  emergency evacuation happening building across...  \n",
       "9       1      52                         afraid tornado coming area  "
      ]
     },
     "execution_count": 96,
     "metadata": {},
     "output_type": "execute_result"
    }
   ],
   "source": [
    "df.head(10)"
   ]
  },
  {
   "cell_type": "markdown",
   "metadata": {},
   "source": [
    "### Continuing Normalization"
   ]
  },
  {
   "cell_type": "markdown",
   "metadata": {},
   "source": [
    "Let's continue to normalize the text by applying stemming or distinguishing by part of speech."
   ]
  },
  {
   "cell_type": "markdown",
   "metadata": {},
   "source": [
    "### Vectorization"
   ]
  },
  {
   "cell_type": "markdown",
   "metadata": {},
   "source": [
    "We'll do that in three steps using the bag-of-words model:\n",
    "\n",
    "1. Count how many times does a word occur in each message (Known as term frequency)\n",
    "\n",
    "2. Weigh the counts, so that frequent tokens get lower weight (inverse document frequency)\n",
    "\n",
    "3. Normalize the vectors to unit length, to abstract from the original text length (L2 norm)\n"
   ]
  },
  {
   "cell_type": "markdown",
   "metadata": {},
   "source": [
    "##### Step 1: Use SciKit Learn's **CountVectorizer**. This model will convert a collection of text documents to a matrix of token counts "
   ]
  },
  {
   "cell_type": "code",
   "execution_count": 84,
   "metadata": {},
   "outputs": [],
   "source": [
    "from sklearn.feature_extraction.text import CountVectorizer"
   ]
  },
  {
   "cell_type": "code",
   "execution_count": 165,
   "metadata": {},
   "outputs": [],
   "source": [
    "vectorizer = CountVectorizer(analyzer = 'word',   \n",
    "                             tokenizer = None,    \n",
    "                             preprocessor = None, \n",
    "                             stop_words = None,   \n",
    "                             ngram_range = (1, 3), \n",
    "                             min_df = 0.0005, \n",
    "                             max_df = 0.5) \n",
    "train_data_features = vectorizer.fit_transform(df['tokens'])"
   ]
  },
  {
   "cell_type": "code",
   "execution_count": 166,
   "metadata": {},
   "outputs": [],
   "source": [
    "# Might take awhile...\n",
    "#bow_transformer = CountVectorizer(analyzer=text_process).fit(df['text'])\n",
    "\n",
    "# Print total number of vocab words\n",
    "#print(len(bow_transformer.vocabulary_))\n"
   ]
  },
  {
   "cell_type": "code",
   "execution_count": 167,
   "metadata": {},
   "outputs": [
    {
     "name": "stdout",
     "output_type": "stream",
     "text": [
      "['aa', 'ab', 'aba', 'aba woman', 'aba woman delivers', 'abandoned', 'abandoned aircraft', 'abandoned aircraft mma', 'abbswinston', 'abbswinston zionist', 'abbswinston zionist terrorist', 'abc', 'abc news', 'abc news http', 'abcnews', 'abe', 'ability', 'ablaze', 'ablaze http', 'ablaze http co', 'able', 'absolutely', 'abstorm', 'abuse', 'abused', 'ac', 'access', 'access secrets', 'access secrets top', 'accident', 'accident experts', 'accident http', 'accident http co', 'accident man', 'accident man died', 'accident property', 'accident property damage', 'accidentally', 'accidents', 'accidents indian', 'accidents indian express', 'according', 'account', 'accused', 'accuses', 'acres', 'across', 'act', 'act http', 'act http co', 'action', 'action hostages', 'action hostages http', 'actions', 'actions year', 'actions year ferguson', 'activated', 'activates', 'active', 'activity', 'acts', 'actual', 'actually', 'ad', 'add', 'added', 'added video', 'added video youtube', 'address', 'admits', 'admits arson', 'admits arson scheme', 'adult', 'advance', 'advisory', 'ae', 'af', 'affected', 'affected fatal', 'affected fatal outbreak', 'afghan', 'afghanistan', 'afraid', 'africa', 'afterlife', 'afternoon', 'aftershock', 'aftershock http', 'aftershock http co', 'ag', 'age', 'ago', 'ago today', 'agree', 'agreed', 'ah', 'ahead', 'ahead http', 'ahead http co', 'ai', 'aid', 'aim', 'aim taiwan', 'air', 'air accident', 'air accident experts', 'air ambulance', 'air ambulance helicopter', 'aircraft', 'aircraft debris', 'aircraft debris found', 'aircraft mma', 'airlines', 'airlines abc', 'airlines http', 'airlines http co', 'airplane', 'airplane accident', 'airplane debris', 'airplane debris found', 'airplane http', 'airplane http co', 'airport', 'airport get', 'airport get swallowed', 'ak', 'aka', 'al', 'alabama', 'alabama home', 'alabama home quarantined', 'alarm', 'alaska', 'alberta', 'album', 'album https', 'album https co', 'alcohol', 'alert', 'alive', 'allah', 'alleged', 'allow', 'allowed', 'allows', 'allows parole', 'allows parole california', 'allows parole school', 'almost', 'alone', 'along', 'alps', 'already', 'alright', 'also', 'although', 'always', 'amazing', 'amazon', 'ambulance', 'ambulance helicopter', 'ambulance helicopter crash', 'ambulance sprinter', 'ambulance sprinter automatic', 'america', 'america first', 'america first hijacking', 'american', 'american pipeline', 'americans', 'amid', 'amid crisis', 'amid crisis famine', 'among', 'amongst', 'amp', 'amp bush', 'amp bush lose', 'amp floods', 'amp floods ur', 'amp http', 'amp http co', 'amp mitt', 'amp mitt video', 'amp services', 'amp tsunami', 'amp use', 'amp used', 'amp used explode', 'amp vote', 'amsterdam', 'analysis', 'anchorage', 'ancient', 'ancient canaanites', 'ancient canaanites http', 'ancient mayan', 'ancient mayan tablet', 'angel', 'angeles', 'angry', 'angry odeon', 'angry odeon cinema', 'animal', 'animal rescue', 'animalrescue', 'animalrescue https', 'animalrescue https co', 'animals', 'ankle', 'annihilated', 'annihilation', 'annihilation salt', 'annihilation salt river', 'anniversary', 'anniversary devastation', 'anniversary devastation wrought', 'anniversary hiroshima', 'anniversary hiroshima atomic', 'announcement', 'annual', 'another', 'another stand', 'another stand user', 'another white', 'answer', 'answers', 'anthrax', 'anthrax lab', 'anthrax lab mishaps', 'anti', 'anti collision', 'anti collision rear', 'antioch', 'antioch http', 'antioch http co', 'anybody', 'anymore', 'anyone', 'anyone else', 'anything', 'anything leads', 'anyway', 'ap', 'apartment', 'apartment buildings', 'apc', 'apc pdp', 'apc pdp http', 'apocalypse', 'apocalypse wither', 'apocalypse wither amp', 'apocalyptic', 'apocalyptic us', 'apocalyptic us earthquake', 'apollo', 'apollo brown', 'apollo brown detonate', 'app', 'apparently', 'appears', 'appears blast', 'appears blast wind', 'apple', 'apply', 'appreciate', 'approaches', 'ar', 'arabia', 'arabian', 'area', 'area gay', 'area gay bar', 'area http', 'area http co', 'areas', 'arianagrande', 'arm', 'armageddon', 'armageddon http', 'armageddon http co', 'armageddon kill', 'armageddon kill flags', 'armed', 'arms', 'army', 'army beyhive', 'army beyhive http', 'army directioners', 'army directioners http', 'army trench', 'army trench released', 'around', 'arrested', 'arrested enugu', 'arrive', 'arrive sicily', 'arrived', 'arrived http', 'arrived http co', 'arsenal', 'arson', 'arson scheme', 'arson scheme http', 'arson suspect', 'arson suspect linked', 'arson victims', 'arson victims stir', 'arsonist', 'arsonist arrested', 'art', 'article', 'articles', 'arts', 'asap', 'ashes', 'ashes australia', 'ashes australia collapse', 'asia', 'ask', 'asked', 'asking', 'asleep', 'ass', 'assembly', 'assistance', 'associated', 'atlanta', 'atomic', 'atomic bomb', 'atomic bombing', 'atomic bombing http', 'atomic bombings', 'atomic bombings still', 'atomic bombs', 'atomic bombs japan', 'attack', 'attack enemy', 'attack enemy derail', 'attack http', 'attack http co', 'attack militants', 'attack militants attack', 'attack police', 'attack police post', 'attacked', 'attacked http', 'attacked http co', 'attacked muslims', 'attacked muslims temple', 'attacking', 'attacks', 'attention', 'au', 'auctions', 'audio', 'aug', 'aug th', 'august', 'august http', 'august http co', 'august pm', 'august pm cdt', 'august pm edt', 'aussie', 'aussies', 'australia', 'australia collapse', 'australia collapse trent', 'australian', 'auth', 'author', 'authorities', 'automatic', 'automatic frontline', 'automatic frontline vehicle', 'av', 'avalanche', 'avalanche http', 'avalanche http co', 'ave', 'ave silver', 'ave silver spring', 'average', 'averted', 'avoid', 'avoiding', 'avoiding microlight', 'avoiding microlight landing', 'aw', 'aware', 'away', 'awesome', 'awful', 'awo', 'awo antioch', 'awo antioch http', 'ay', 'az', 'ba', 'babies', 'baby', 'baby without', 'baby without face', 'back', 'back http', 'back http co', 'back jeb', 'back jeb amp', 'back life', 'bad', 'bag', 'bag full', 'bag full read', 'bag womens', 'bag womens http', 'bagging', 'bagging meek', 'bags', 'bags white', 'bags white http', 'bake', 'ball', 'ban', 'bands', 'bang', 'bang nearby', 'bang nearby appears', 'bank', 'banned', 'banned quarantined', 'banned quarantined http', 'bar', 'bar admits', 'bar admits arson', 'bar offroad', 'bar offroad fog', 'bare', 'bargain', 'base', 'baseball', 'based', 'bat', 'bath', 'bathroom', 'battle', 'battle occurred', 'battle occurred star', 'battlefield', 'battling', 'bay', 'bay area', 'bayelsa', 'bayelsa patience', 'bayelsa patience jonathan', 'bayelsa poll', 'bayelsa poll tension', 'bb', 'bbc', 'bbc cnn', 'bbc cnn islam', 'bbc news', 'bc', 'bd', 'beach', 'beam', 'beam full', 'beam full rea', 'bear', 'bears', 'beat', 'beats', 'beautiful', 'became', 'become', 'becomes', 'bed', 'bedroom', 'beer', 'bees', 'beforeitsnews', 'began', 'begin', 'begin examining', 'begin examining airplane', 'beginning', 'begins', 'behind', 'believe', 'bell', 'bells', 'ben', 'benefits', 'best', 'bestnaijamade', 'bestnaijamade bestnaijamade', 'bestnaijamade bestnaijamade bestnaijamade', 'bestnaijamade yr', 'bestnaijamade yr old', 'bet', 'betrayed', 'better', 'beyhive', 'beyhive http', 'beyhive http co', 'beyonce', 'beyonce pick', 'beyonce pick http', 'beyond', 'bff', 'bg', 'bgm', 'bi', 'bicyclist', 'bicyclist injured', 'bicyclist injured denver', 'bid', 'big', 'bigger', 'bigger projected', 'bigger projected http', 'biggest', 'bike', 'biker', 'bill', 'bin', 'bin laden', 'bin laden family', 'biological', 'bioterror', 'bioterror germs', 'bioterror germs wake', 'bioterror pathogens', 'bioterror pathogens http', 'bioterrorism', 'bioterrorism sir', 'birds', 'birthday', 'bit', 'bitch', 'bitches', 'bjp', 'black', 'black eye', 'black eye space', 'black hat', 'black hat http', 'black people', 'blackberry', 'blackberry full', 'blackberry full read', 'blake', 'blame', 'blamed', 'blast', 'blast lack', 'blast lack action', 'blast near', 'blast near house', 'blast wind', 'blast wind neighbour', 'blasts', 'blaze', 'blazing', 'blazing hot', 'bleeding', 'bless', 'blessed', 'blessings', 'blew', 'blight', 'blind', 'blizzard', 'blk', 'blks', 'block', 'block mod', 'block mod bob', 'blocked', 'blocked lord', 'blocked lord amp', 'blocking', 'blog', 'blood', 'blood pressure', 'bloody', 'bloody hell', 'blow', 'blowing', 'blown', 'blown away', 'blows', 'blue', 'blue http', 'blue http co', 'bluejays', 'bluetooth', 'blvd', 'bm', 'bn', 'board', 'boat', 'boat capsizes', 'boat capsizes libya', 'boat carryi', 'boat carrying', 'boat carrying many', 'boat mining', 'boat mining wd', 'bob', 'bob apocalypse', 'bob apocalypse wither', 'bodies', 'bodies water', 'bodies water rescuers', 'body', 'body bag', 'body bag full', 'body bag womens', 'body bagging', 'body bagging meek', 'body bags', 'bomb', 'bomb ass', 'bomb http', 'bomb http co', 'bomb turkey', 'bomb turkey army', 'bombed', 'bomber', 'bomber detonated', 'bomber detonated bomb', 'bomber kills', 'bomber kills saudi', 'bombing', 'bombing hiroshima', 'bombing http', 'bombing http co', 'bombing saudi', 'bombings', 'bombings still', 'bombings still felt', 'bombs', 'bombs japan', 'bombs japan still', 'book', 'books', 'boot', 'border', 'bored', 'born', 'boss', 'boston', 'bottom', 'bought', 'bound', 'bout', 'bowl', 'box', 'boxer', 'boy', 'boy charged', 'boy charged manslaughter', 'boys', 'bp', 'bq', 'brain', 'brakes', 'braking', 'brazil', 'break', 'breaking', 'breaking news', 'breaking news unconfirmed', 'breakingnews', 'bride', 'bridge', 'bridge collapse', 'bridge collapse nearby', 'bring', 'bring back', 'bringing', 'brings', 'british', 'bro', 'broad', 'broadway', 'broadway least', 'broadway least two', 'broke', 'broken', 'brooklyn', 'brother', 'brothers', 'brought', 'brown', 'brown detonate', 'brown detonate ft', 'brown detonate http', 'browser', 'browser hijacker', 'browser hijacker http', 'bruh', 'brutally', 'bs', 'bu', 'buckle', 'budget', 'budget fires', 'buffalo', 'bug', 'build', 'building', 'buildings', 'buildings burning', 'buildings fire', 'bulletin', 'bullets', 'burn', 'burned', 'burning', 'burning buildings', 'burning man', 'burns', 'burst', 'bus', 'bus hijacker', 'bus hijacker http', 'buses', 'buses arrested', 'buses arrested enugu', 'bush', 'bush fires', 'bush lose', 'bush lose republicans', 'business', 'business http', 'business http co', 'businesses', 'businesses deluged', 'businesses deluged invoices', 'butter', 'button', 'buy', 'ca', 'ca http', 'ca http co', 'cable', 'cable tv', 'cable tv http', 'caitlin', 'caitlin kiernan', 'caitlin kiernan centipede', 'cake', 'cakes', 'calamity', 'calgary', 'calif', 'california', 'california http', 'california http co', 'california school', 'california school bus', 'california spring', 'california spring oil', 'california time', 'california time utc', 'california wild', 'california wild fires', 'california wildfire', 'california wildfire abc', 'california wildfire http', 'call', 'called', 'called http', 'called http co', 'calling', 'calls', 'calm', 'calories', 'calum', 'came', 'came land', 'came land engulfed', 'cameroon', 'cameroon http', 'cameroon http co', 'camp', 'campaign', 'campus', 'canaanites', 'canaanites http', 'canaanites http co', 'canada', 'cancel', 'cancer', 'cannot', 'cant', 'canyon', 'canyon crews', 'canyon crews investigating', 'cap', 'capsizes', 'capsizes libya', 'capsizes libya http', 'captain', 'capture', 'captured', 'captures', 'captures image', 'captures image typhoon', 'captures violent', 'captures violent landing', 'car', 'car accident', 'car engulfed', 'car engulfed flames', 'car truck', 'car truck boat', 'car wreck', 'card', 'care', 'career', 'careful', 'careful let', 'careful let desires', 'carry', 'carryi', 'carrying', 'carrying many', 'cars', 'case', 'cases', 'casper', 'cast', 'casualties', 'casualties calling', 'casualties http', 'casualties http co', 'casualty', 'cat', 'catastrophe', 'catastrophe http', 'catastrophe http co', 'catastrophic', 'catastrophic effects', 'catastrophic effects hiroshima', 'catastrophic eruption', 'catch', 'cats', 'caught', 'caught northern', 'caught northern california', 'cause', 'cause fatal', 'cause fatal waimate', 'cause http', 'cause http co', 'caused', 'caused damaged', 'caused damaged plug', 'caused structural', 'caused structural failure', 'causes', 'causing', 'caution', 'cave', 'cbc', 'cbs', 'cc', 'cd', 'cdc', 'cdt', 'cdt august', 'cdt august pm', 'cdt http', 'cdt http co', 'cdt nws', 'ce', 'cell', 'center', 'center http', 'center http co', 'centipede', 'centipede press', 'centipede press signed', 'central', 'centre', 'centre film', 'centre film fans', 'centre http', 'centre http co', 'ceo', 'ceo steve', 'ceo steve huffman', 'certain', 'certainly', 'cf', 'ch', 'challenge', 'chance', 'change', 'changed', 'changes', 'changes windstorm', 'changes windstorm insurer', 'channel', 'chaos', 'character', 'characters', 'charge', 'charged', 'charged manslaughter', 'charged manslaughter fatal', 'charged manslaughter toddler', 'charging', 'charity', 'charles', 'charlie', 'charts', 'chat', 'check', 'check http', 'check http co', 'checked', 'cheese', 'chelsea', 'chemical', 'chemical companies', 'chemical dependency', 'chemical dependency counselor', 'chemical explosion', 'chemical explosion nu', 'chemical spill', 'chest', 'chicago', 'chicago area', 'chicago area gay', 'chief', 'chief diamondkesawn', 'chief diamondkesawn releases', 'child', 'childhood', 'children', 'chile', 'chile hollywood', 'chile hollywood movie', 'chile http', 'chile http co', 'chill', 'china', 'china http', 'china http co', 'china stock', 'china stock market', 'chinese', 'chocolate', 'choice', 'choice lez', 'choice lez compliant', 'choking', 'choking hazard', 'christian', 'christian attacked', 'christian attacked muslims', 'christians', 'christmas', 'christmas tree', 'christmas tree report', 'church', 'cia', 'cigarette', 'cinema', 'cinema evacuated', 'cinema evacuated following', 'cities', 'city', 'city calgary', 'civil', 'civilian', 'civilian casualties', 'civilian casualties calling', 'civilians', 'claim', 'claims', 'claims suicide', 'claims suicide bombing', 'class', 'classic', 'clean', 'cleanup', 'clear', 'cleared', 'clearly', 'cleveland', 'click', 'client', 'cliff', 'climate', 'climate change', 'clinton', 'clip', 'close', 'closed', 'clothes', 'cloud', 'clouds', 'club', 'clutch', 'clutch cross', 'clutch cross body', 'cm', 'cnbc', 'cnn', 'cnn islam', 'cnn islam truth', 'co bp', 'co cd', 'co cm', 'co ct', 'co cx', 'co cy', 'co cybksxhf', 'co cybksxhf coming', 'co cyy', 'co dl', 'co eblokeve', 'co eblokeve fan', 'co encmhz', 'co ev', 'co founder', 'co founder ceo', 'co fs', 'co fw', 'co fz', 'co gl', 'co go', 'co gx', 'co ih', 'co ksawlyux', 'co ksawlyux bestnaijamade', 'co lvlh', 'co lvlh awo', 'co moll', 'co moll vd', 'co nnmqlz', 'co nnmqlz fan', 'co nr', 'co nu', 'co oa', 'co pilot', 'co qew', 'co qew xd', 'co rqwuoy', 'co rqwuoy fm', 'co thoyhrhkfj', 'co thoyhrhkfj fan', 'co tl', 'co tn', 'co viwxy', 'co viwxy xdyk', 'co vvplfqv', 'co vvplfqv http', 'co vz', 'co wvj', 'co wvj bgm', 'co xq', 'co xr', 'co yi', 'co yu', 'co zujwuiomb', 'co zujwuiomb http', 'coach', 'coaches', 'coaches train', 'coaches train plunging', 'coast', 'coast tram', 'coastal', 'coastal german', 'coastal german shepherd', 'cock', 'code', 'coffee', 'cold', 'collapse', 'collapse http', 'collapse http co', 'collapse nearby', 'collapse nearby homes', 'collapse story', 'collapse story http', 'collapse trent', 'collapse trent bridge', 'collapsed', 'collapses', 'collection', 'collide', 'collided', 'collided http', 'collided http co', 'collision', 'collision broadway', 'collision broadway least', 'collision inj', 'collision inj http', 'collision rear', 'color', 'colorado', 'colorado theater', 'colorado theater shooting', 'colour', 'colour shape', 'colour shape likely', 'com', 'combat', 'combat magnum', 'combat magnum opus', 'combined', 'combo', 'combo inch', 'combo inch curved', 'come', 'come back', 'comes', 'coming', 'coming apocalyptic', 'coming apocalyptic us', 'coming soon', 'coming soon album', 'comment', 'comment rules', 'comment rules changes', 'comments', 'commercial', 'common', 'communication', 'communities', 'communities http', 'communities http co', 'community', 'companies', 'company', 'complete', 'completely', 'compliant', 'compliant ebay', 'compliant ebay http', 'computer', 'computers', 'computers send', 'computers send data', 'concern', 'concerned', 'concerns', 'concert', 'conclusively', 'conclusively confirmed', 'conclusively confirmed mh', 'conditions', 'conference', 'conference centre', 'conference centre http', 'confirm', 'confirmed', 'confirmed mh', 'confirmed mh malaysia', 'confirmed mh relatives', 'confirms', 'conflict', 'congress', 'connector', 'consider', 'considering', 'constantly', 'content', 'content http', 'content http co', 'content policy', 'content policy goes', 'content policy promises', 'content reddit', 'content reddit co', 'continue', 'continued', 'continues', 'control', 'control afterlife', 'cook', 'cook totally', 'cook totally obliterated', 'cool', 'cop', 'cop pulls', 'cops', 'copycat', 'copycat massacre', 'copycat massacre http', 'cord', 'correction', 'correction tent', 'correction tent collapse', 'cos', 'cost', 'costlier', 'costlier bigger', 'costlier bigger projected', 'costs', 'cotton', 'could', 'could get', 'could reduce', 'could reduce civilian', 'counselor', 'counselor intern', 'counter', 'countries', 'country', 'county', 'county http', 'county http co', 'county pm', 'couple', 'couples', 'course', 'course http', 'course http co', 'court', 'cousin', 'cover', 'covered', 'covers', 'cp', 'cq', 'cr', 'crack', 'crackdown', 'cramer', 'cramer iger', 'cramer iger words', 'cranes', 'cranes holding', 'cranes holding bridge', 'crap', 'crash', 'crash burn', 'crash caused', 'crash caused structural', 'crash course', 'crash course http', 'crash gems', 'crash gems rubble', 'crash http', 'crash http co', 'crash last', 'crash last year', 'crash summer', 'crash summer sparked', 'crashed', 'crashed avoiding', 'crashed avoiding microlight', 'crashed car', 'crashes', 'crashing', 'crater', 'crazy', 'cream', 'create', 'created', 'cree', 'cree led', 'cree led work', 'crematoria', 'crematoria provoke', 'crematoria provoke outrage', 'crew', 'crews', 'crews investigating', 'crews investigating cause', 'crime', 'criminals', 'criminals hijack', 'criminals hijack lorries', 'crisis', 'crisis famine', 'crisis famine memories', 'cross', 'cross body', 'cross body bag', 'cross body bags', 'crossed', 'crowd', 'crush', 'crush http', 'crush http co', 'crushed', 'cruz', 'cruz fires', 'cruz fires back', 'cry', 'crying', 'cs', 'ct', 'cum', 'cup', 'cupcake', 'curfew', 'current', 'currently', 'curved', 'curved cree', 'curved cree led', 'cut', 'cute', 'cuz', 'cw', 'cx', 'cy', 'cybksxhf', 'cybksxhf coming', 'cybksxhf coming apocalyptic', 'cyclist', 'cyclone', 'cyy', 'cz', 'da', 'dad', 'daily', 'dallas', 'dam', 'damage', 'damaged', 'damaged plug', 'damaged plug christmas', 'damages', 'damn', 'dan', 'dan hughes', 'dance', 'dance ices', 'dance ices http', 'danger', 'danger coming', 'danger coming soon', 'danger zone', 'dangerous', 'dare', 'dark', 'darude', 'darude sandstorm', 'dat', 'data', 'data sound', 'data sound waves', 'date', 'date charity', 'daughter', 'david', 'day', 'day http', 'day http co', 'days', 'dc', 'de', 'dead', 'dead aim', 'dead aim taiwan', 'dead dozens', 'dead dozens injured', 'dead exchanging', 'dead exchanging shots', 'dead houses', 'dead houses destroyed', 'deadly', 'deal', 'deals', 'dear', 'death', 'death toll', 'deaths', 'deaths http', 'deaths http co', 'debate', 'debris', 'debris confirmed', 'debris confirmed mh', 'debris found', 'debris found la', 'debris found reunion', 'debris missing', 'debt', 'decide', 'decided', 'decision', 'decisions', 'deck', 'declaration', 'declaration northern', 'declaration northern marians', 'declares', 'declares disaster', 'declares disaster typhoon', 'deep', 'defend', 'defense', 'definitely', 'degree', 'degrees', 'delays', 'delivers', 'delivers baby', 'delivers baby without', 'deluge', 'deluged', 'deluged invoices', 'deluged invoices make', 'demand', 'democracy', 'demolish', 'demolish illegal', 'demolish illegal structures', 'demolished', 'demolished http', 'demolished http co', 'demolition', 'demolition http', 'demolition http co', 'denver', 'denver collision', 'denver collision broadway', 'department', 'dependency', 'dependency counselor', 'dependency counselor intern', 'depth', 'deputies', 'derail', 'derail madhya', 'derail madhya pradesh', 'derail ur', 'derail ur destiny', 'derailed', 'derailment', 'derailment freakiest', 'derailment freakiest freak', 'derailment village', 'derailment village youth', 'derails', 'derby', 'description', 'design', 'designs', 'desire', 'desires', 'desires careful', 'desires careful let', 'desires control', 'desires control afterlife', 'desolate', 'desolation', 'desolation smaug', 'despite', 'destiny', 'destiny blocked', 'destiny blocked lord', 'destroy', 'destroyed', 'destroyed kaduna', 'destroys', 'destroys houses', 'destroys houses yobe', 'destruction', 'details', 'detectado', 'detectado jap', 'detonate', 'detonate feat', 'detonate ft', 'detonate http', 'detonate http co', 'detonate killer', 'detonate killer queen', 'detonated', 'detonated bomb', 'detonated bomb http', 'detonated bomb turkey', 'detonation', 'detonation sensor', 'detonation sensor connector', 'detonation sensor senso', 'devastated', 'devastated saipan', 'devastated saipan obama', 'devastation', 'devastation wrought', 'devastation wrought http', 'device', 'dg', 'di', 'diamond', 'diamondkesawn', 'diamondkesawn releases', 'diamondkesawn releases issue', 'dick', 'didnt', 'die', 'died', 'died human', 'died human experiments', 'died wings', 'died wings airplane', 'dies', 'diet', 'different', 'digit', 'digit heat', 'digit heat since', 'dinner', 'direction', 'direction pick', 'direction pick http', 'directioners', 'directioners http', 'directioners http co', 'disaster', 'disaster declaration', 'disaster declaration northern', 'disaster http', 'disaster http co', 'disaster typhoon', 'disaster typhoon devastated', 'disasters', 'disco', 'discovered', 'discovery', 'discovery crash', 'disea', 'disea http', 'disea http co', 'disease', 'disney', 'disney stock', 'disney stock http', 'displaced', 'displaced people', 'displaced people horror', 'displaced rohingya', 'displaced rohingya sittwe', 'disrupts', 'diss', 'distance', 'diving', 'dj', 'djicemoon', 'djicemoon dubstep', 'djicemoon dubstep trapmusic', 'dk', 'dk eyewitness', 'dk eyewitness travel', 'dl', 'dm', 'dn', 'dnb', 'dnb edm', 'dnb edm dance', 'doctor', 'documents', 'dog', 'dogs', 'dollar', 'done', 'dont', 'door', 'dorret', 'double', 'doubt', 'download', 'download video', 'downtown', 'downtown emergency', 'downtown emergency service', 'dozens', 'dozens injured', 'dozens injured gaza', 'dq', 'dr', 'drag', 'dragon', 'drake', 'drake body', 'drake body bagging', 'dramatic', 'dramatic video', 'dramatic video shows', 'drawn', 'drawn survivors', 'drawn survivors http', 'dream', 'dreams', 'dress', 'drill', 'drink', 'drinking', 'drive', 'driven', 'driver', 'driving', 'drone', 'drones', 'drop', 'dropped', 'drought', 'drought http', 'drought http co', 'drove', 'drown', 'drowned', 'drowned migrant', 'drowned migrant boat', 'drowning', 'drowning girl', 'drowning girl caitlin', 'drug', 'drugs', 'drunk', 'drunk meals', 'drunk meals cook', 'dry', 'ds', 'dt', 'dtn', 'dublin', 'dubstep', 'dubstep trapmusic', 'dubstep trapmusic dnb', 'dude', 'due', 'dust', 'dust storm', 'dust storm combat', 'dust storm http', 'dutch', 'duty', 'dvd', 'dw', 'dx', 'dying', 'ear', 'earlier', 'earlier week', 'early', 'earners', 'earners amp', 'earners amp used', 'earth', 'earthquake', 'earthquake amp', 'earthquake amp tsunami', 'earthquake km', 'easily', 'east', 'easy', 'eat', 'eating', 'eb', 'ebay', 'ebay auctions', 'ebay http', 'ebay http co', 'eblokeve', 'eblokeve fan', 'eblokeve fan army', 'ebola', 'ebola case', 'economic', 'economy', 'ed', 'eden', 'eden hazard', 'edinburgh', 'edition', 'edition clutch', 'edition clutch cross', 'editor', 'editor chief', 'editor chief diamondkesawn', 'edm', 'edm dance', 'edm dance ices', 'edt', 'edt nws', 'education', 'ee', 'ef', 'effect', 'effect many', 'effect many horrible', 'effects', 'effects hiroshima', 'effects hiroshima nagasaki', 'effort', 'efforts', 'ego', 'egypt', 'eh', 'ei', 'eight', 'either', 'el', 'election', 'electric', 'electrical', 'electrocute', 'electrocuted', 'electronic', 'elephant', 'elevated', 'elevated tracks', 'elevated tracks windstorm', 'else', 'em', 'emergency', 'emergency department', 'emergency plan', 'emergency response', 'emergency service', 'emergency service center', 'emergency services', 'emergency units', 'emergency units simulate', 'emmerdale', 'emmerdale summerfate', 'emotional', 'emotional wreck', 'emotionally', 'emotions', 'empty', 'ems', 'en', 'encmhz', 'end', 'ended', 'ending', 'ends', 'enemy', 'enemy derail', 'enemy derail ur', 'energy', 'engine', 'england', 'english', 'engulfed', 'engulfed flames', 'engulfed flames parley', 'engulfed low', 'engulfed low self', 'engulfed tribal', 'engulfed tribal war', 'enjoy', 'enjoyed', 'enjoying', 'enough', 'enter', 'entered', 'entertainment', 'entire', 'enugu', 'enugu government', 'enugu government demolish', 'environment', 'ep', 'epic', 'epicentre', 'episode', 'eq', 'eq km', 'equal', 'equipment', 'er', 'error', 'eruption', 'es', 'escape', 'escape car', 'escape car engulfed', 'especially', 'estate', 'estimate', 'estimate grows', 'estimated', 'et', 'etc', 'etc https', 'etc https co', 'eu', 'europe', 'ev', 'evacuate', 'evacuated', 'evacuated following', 'evacuated following false', 'evacuation', 'evacuation abandoned', 'evacuation abandoned aircraft', 'evacuation order', 'evacuation order lifted', 'even', 'even giving', 'even giving half', 'even want', 'even want think', 'evening', 'event', 'events', 'ever', 'ever seen', 'every', 'every time', 'every year', 'everyday', 'everyone', 'everything', 'everywhere', 'evidence', 'evil', 'ex', 'exactly', 'examining', 'examining airplane', 'examining airplane debris', 'example', 'excellent', 'except', 'exchange', 'exchange gunfire', 'exchanging', 'exchanging shots', 'exchanging shots http', 'exchanging shots richmond', 'excited', 'executives', 'executives prosecuted', 'executives prosecuted fukushima', 'exist', 'exit', 'exit md', 'exit md georgia', 'exp', 'expect', 'expected', 'expected make', 'expected make landfall', 'expecting', 'experience', 'experiments', 'experiments unit', 'experiments unit japanese', 'expert', 'experts', 'experts france', 'experts france begin', 'explains', 'explode', 'explode home', 'explode home business', 'explode http', 'explode http co', 'exploded', 'exploration', 'exploration takes', 'exploration takes seismic', 'explosion', 'explosion nu', 'explosion proof', 'explosion proof tempered', 'express', 'express http', 'express http co', 'external', 'extra', 'extreme', 'extremely', 'extremely offensive', 'extremely offensive communities', 'ey', 'eye', 'eye space', 'eye space battle', 'eyes', 'eyewitness', 'eyewitness account', 'eyewitness news', 'eyewitness travel', 'eyewitness travel guide', 'fa', 'faan', 'faan orders', 'faan orders evacuation', 'face', 'face photos', 'face photos http', 'facebook', 'faced', 'fact', 'factory', 'fail', 'failed', 'failure', 'failure co', 'failure co pilot', 'failure http', 'failure http co', 'fair', 'faith', 'fake', 'falcon', 'fall', 'fall cliff', 'fallen', 'falling', 'falls', 'falls elevated', 'falls elevated tracks', 'false', 'false fire', 'false fire alarm', 'fam', 'families', 'families affected', 'families affected fatal', 'families http', 'families http co', 'families sue', 'families sue legionnaires', 'family', 'family plane', 'family plane crashed', 'famine', 'famine memories', 'famine memories http', 'famous', 'fan', 'fan army', 'fan army beyhive', 'fan army directioners', 'fans', 'fans angry', 'fans angry odeon', 'fantastic', 'fantasy', 'far', 'far runway', 'farrakhan', 'fashion', 'fashion models', 'fashion models mayhem', 'fast', 'fast xp', 'fast xp reason', 'fat', 'fatal', 'fatal crash', 'fatal outbreak', 'fatal outbreak legionnaires', 'fatal sh', 'fatal virgin', 'fatal virgin galactic', 'fatal waimate', 'fatal waimate fire', 'fatalities', 'fatality', 'fate', 'father', 'faux', 'faux leather', 'faux leather hobo', 'fav', 'favorite', 'favorite amp', 'fb', 'fbi', 'fd', 'fear', 'fear copycat', 'fear copycat massacre', 'fear http', 'fear http co', 'feared', 'feared drowned', 'feared drowned migrant', 'feared killed', 'feared killed pakistani', 'fears', 'fears missing', 'fears missing migrants', 'feat', 'federal', 'fedex', 'fedex longer', 'fedex longer transport', 'fedex stops', 'feed', 'feeding', 'feel', 'feel like', 'feel like sinking', 'feeling', 'feeling home', 'feeling home phone', 'feelings', 'feels', 'feels like', 'feet', 'fell', 'felt', 'felt today', 'felt today http', 'female', 'feminist', 'feminists', 'feminists world', 'feminists world riot', 'ferguson', 'ferguson upheaval', 'ferguson upheaval http', 'festival', 'fettilootch', 'fettilootch slanglucci', 'fettilootch slanglucci oppressions', 'ff', 'field', 'fifth', 'fight', 'fight bioterrorism', 'fight bioterrorism sir', 'fighters', 'fighting', 'fights', 'fill', 'film', 'film blackberry', 'film blackberry full', 'film fans', 'film fans angry', 'final', 'finally', 'finally panicking', 'finally panicking cable', 'financial', 'find', 'finds', 'fine', 'fingers', 'finnish', 'fire', 'fire alarm', 'fire burning', 'fire hazard', 'fire http', 'fire http co', 'fire killed', 'fire killed caused', 'fire truck', 'fire truck used', 'fired', 'firefighter', 'firefighters', 'fires', 'fires back', 'fires back jeb', 'fires california', 'fires caught', 'fires caught northern', 'fires http', 'fires http co', 'first', 'first hijacking', 'first hijacking http', 'first lady', 'first responders', 'first time', 'fish', 'fishing', 'fits', 'five', 'five years', 'fix', 'fk', 'flag', 'flag via', 'flag via pamela', 'flags', 'flags fast', 'flags fast xp', 'flames', 'flames http', 'flames http co', 'flames parley', 'flames parley canyon', 'flash', 'flash flood', 'flash flooding', 'flash floods', 'flat', 'flattened', 'fleets', 'fleets totaling', 'fleets totaling ships', 'flew', 'flight', 'flight mh', 'flight mh http', 'floated', 'flood', 'flood advisory', 'flood beam', 'flood beam full', 'flood combo', 'flood combo inch', 'flood http', 'flood http co', 'flood two', 'flood two people', 'flooded', 'flooding', 'flooding http', 'flooding http co', 'flooding kills', 'floods', 'floods http', 'floods http co', 'floods ur', 'floods ur life', 'floor', 'florida', 'floyd', 'fly', 'flying', 'fm', 'fnet', 'focus', 'focus cause', 'focus cause fatal', 'fog', 'fog lamp', 'fog lamp full', 'follow', 'followers', 'following', 'following false', 'following false fire', 'follows', 'food', 'food crematoria', 'food crematoria provoke', 'foot', 'footage', 'football', 'forbes', 'force', 'forced', 'forces', 'forecast', 'forest', 'forest fire', 'forest fires', 'forest service', 'forest service says', 'forest stop', 'forest stop annihilation', 'forever', 'forget', 'forgot', 'forgotten', 'former', 'former executives', 'former executives prosecuted', 'former first', 'former first lady', 'former township', 'former township fire', 'fort', 'forward', 'foster', 'found', 'found la', 'found la reunion', 'found reunion', 'found reunion island', 'founder', 'founder ceo', 'founder ceo steve', 'four', 'fox', 'fox news', 'foxnews', 'fr', 'france', 'france begin', 'france begin examining', 'freak', 'freak accidents', 'freak accidents indian', 'freakiest', 'freakiest freak', 'freakiest freak accidents', 'free', 'freedom', 'french', 'french air', 'french air accident', 'fresh', 'friday', 'friend', 'friends', 'front', 'frontline', 'frontline vehicle', 'frontline vehicle choice', 'fruit', 'fs', 'ft', 'ft http', 'ft http co', 'fuck', 'fucked', 'fucking', 'fuel', 'fukushima', 'fukushima nuclear', 'fukushima nuclear disaster', 'full', 'full http', 'full http co', 'full rea', 'full rea http', 'full read', 'full read ebay', 'full read http', 'full time', 'fully', 'fun', 'fund', 'funds', 'funny', 'funny moments', 'funtenna', 'funtenna hijacking', 'funtenna hijacking computers', 'future', 'fw', 'fwy', 'fx', 'fy', 'fyi', 'fz', 'ga', 'gabon', 'gabon somalia', 'gained', 'gained access', 'gained access secrets', 'galactic', 'galactic crash', 'galactic spaceship', 'galactic spaceship crash', 'game', 'gameplay', 'games', 'gang', 'garden', 'gas', 'gave', 'gay', 'gay bar', 'gay bar admits', 'gaza', 'gaza blast', 'gaza blast near', 'gbbo', 'ge', 'geller', 'geller http', 'geller http co', 'gems', 'gems rubble', 'gems rubble china', 'gems rubble http', 'general', 'generally', 'generation', 'genocide', 'genocide refugees', 'genocide refugees idp', 'george', 'georgia', 'georgia ave', 'georgia ave silver', 'german', 'german shepherd', 'german shepherd rescue', 'germany', 'germs', 'germs wake', 'germs wake anthrax', 'get', 'get back', 'get blown', 'get burned', 'get demolished', 'get electrocuted', 'get home', 'get rid', 'get swallowed', 'get swallowed sandstorm', 'gets', 'getting', 'gf', 'gh', 'gi', 'giant', 'giant cranes', 'giant cranes holding', 'gift', 'girl', 'girl caitlin', 'girl caitlin kiernan', 'girlfriend', 'girls', 'give', 'given', 'giving', 'giving half', 'giving half date', 'gl', 'glad', 'glass', 'glass screen', 'glass screen protector', 'global', 'global precipitation', 'global precipitation measurement', 'gm', 'gm pray', 'gm pray attack', 'go', 'go ahead', 'go back', 'goal', 'goals', 'god', 'god isis', 'god isis terrorism', 'god order', 'god order obliteration', 'gods', 'goes', 'goes effect', 'goes effect many', 'going', 'going make', 'gold', 'gold coast', 'gold coast tram', 'golf', 'gon', 'gone', 'gonna', 'gonna get', 'good', 'good thing', 'google', 'gop', 'got', 'got electrocuted', 'gotta', 'gotten', 'gov', 'government', 'government demolish', 'government demolish illegal', 'governor', 'governor allows', 'governor allows parole', 'govt', 'gps', 'grab', 'grace', 'grade', 'grateful', 'gray', 'grazed', 'great', 'greatest', 'greatest danger', 'greatest danger coming', 'greece', 'green', 'green line', 'grey', 'grief', 'grief israel', 'grief israel http', 'grill', 'grill arrived', 'grill arrived http', 'ground', 'group', 'grow', 'grows', 'gs', 'gt', 'gt gt', 'gt gt gt', 'gt gt http', 'gt gt https', 'gt http', 'gt http co', 'gt https', 'gt https co', 'guard', 'guardian', 'guess', 'guide', 'guillermo', 'gun', 'gunfire', 'gunman', 'guns', 'gusts', 'gusty', 'gusty winds', 'guy', 'guys', 'gw', 'gx', 'ha', 'haha', 'hail', 'hailstorm', 'hair', 'half', 'half budget', 'half budget fires', 'half date', 'half date charity', 'hand', 'handbag', 'handbag faux', 'handbag faux leather', 'handbags', 'hands', 'hang', 'happen', 'happened', 'happening', 'happens', 'happy', 'happy birthday', 'haram', 'harbor', 'hard', 'harm', 'harm good', 'harry', 'hashtag', 'hat', 'hat http', 'hat http co', 'hatchet', 'hate', 'hated', 'haunting', 'haunting memories', 'haunting memories drawn', 'hawaii', 'hawaii time', 'hawaii time utc', 'hazard', 'hazard http', 'hazard http co', 'hazardous', 'hazardous health', 'hazardous waste', 'hazardous weather', 'hazardous weather outlook', 'hd', 'head', 'headed', 'heading', 'headphones', 'heads', 'health', 'health amp', 'health amp services', 'hear', 'heard', 'heard loud', 'heard loud bang', 'hearing', 'heart', 'heart attack', 'hearts', 'heat', 'heat since', 'heat wave', 'heaven', 'heavenly', 'heavenly blessings', 'heavy', 'heavy rain', 'held', 'held hostage', 'helicopter', 'helicopter crash', 'helicopter crash http', 'helicopter crashed', 'hell', 'hellfire', 'hellfire even', 'hellfire even giving', 'hellfire even want', 'hellfire surrounded', 'hellfire surrounded desires', 'hello', 'help', 'help http', 'help http co', 'helping', 'hero', 'heroes', 'hes', 'hey', 'hh', 'hi', 'hieroglyphics', 'hieroglyphics honors', 'hieroglyphics honors lowly', 'high', 'high school', 'highest', 'highway', 'hijack', 'hijack apc', 'hijack apc pdp', 'hijack lorries', 'hijack lorries buses', 'hijacker', 'hijacker http', 'hijacker http co', 'hijacking', 'hijacking computers', 'hijacking computers send', 'hijacking http', 'hijacking http co', 'hilarious', 'hill', 'hills', 'hip', 'hip hop', 'hiring', 'hiroshima', 'hiroshima atomic', 'hiroshima atomic bombing', 'hiroshima bombing', 'hiroshima http', 'hiroshima http co', 'hiroshima nagasaki', 'hiroshima nagasaki atomic', 'hiroshima survivors', 'history', 'hit', 'hit train', 'hits', 'hitting', 'hmm', 'hoax', 'hobbit', 'hobbit desolation', 'hobbit desolation smaug', 'hobo', 'hobo purse', 'hobo purse cross', 'hold', 'holding', 'holding bridge', 'holding bridge collapse', 'hole', 'holiday', 'holland', 'hollywood', 'hollywood movie', 'hollywood movie trapped', 'holy', 'home', 'home business', 'home business http', 'home http', 'home http co', 'home phone', 'home phone realise', 'home quarantined', 'home quarantined possible', 'homeless', 'homes', 'homes http', 'homes http co', 'homes razed', 'homes razed northern', 'honestly', 'honors', 'honors lowly', 'honors lowly king', 'hop', 'hope', 'hope discovery', 'hope discovery crash', 'hope fall', 'hope fall cliff', 'hope ok', 'hopefully', 'horrible', 'horrible accident', 'horrible accident man', 'horrible sinking', 'horrible sinking feeling', 'horrible subreddits', 'horrible subreddits banned', 'horror', 'horror etc', 'horror etc https', 'horror saw', 'horror saw coaches', 'horse', 'horse http', 'horse http co', 'horse https', 'horse https co', 'horses', 'hospital', 'host', 'hostage', 'hostage http', 'hostage http co', 'hostages', 'hostages http', 'hostages http co', 'hostages iran', 'hostages iran http', 'hostages libya', 'hosting', 'hot', 'hot funtenna', 'hot funtenna hijacking', 'hot reddit', 'hot reddit new', 'hot specially', 'hot specially modified', 'hotel', 'hour', 'hours', 'hours away', 'house', 'house leveled', 'house leveled summer', 'houses', 'houses destroyed', 'houses destroyed kaduna', 'houses yobe', 'housing', 'houston', 'hr', 'http', 'http co', 'http co bp', 'http co cd', 'http co cm', 'http co ct', 'http co cx', 'http co cy', 'http co cybksxhf', 'http co cyy', 'http co eblokeve', 'http co encmhz', 'http co ev', 'http co gl', 'http co go', 'http co gx', 'http co ksawlyux', 'http co lvlh', 'http co nnmqlz', 'http co nr', 'http co nu', 'http co oa', 'http co qew', 'http co thoyhrhkfj', 'http co tn', 'http co viwxy', 'http co vvplfqv', 'http co vz', 'http co wvj', 'http co xq', 'http co xr', 'http co yi', 'http co yu', 'http co zujwuiomb', 'https', 'https co', 'https co moll', 'https co rqwuoy', 'huffman', 'huffman unveiled', 'huffman unveiled specif', 'huge', 'hughes', 'huh', 'human', 'human experiments', 'human experiments unit', 'human history', 'humanity', 'humans', 'humidity', 'hundred', 'hundreds', 'hundreds feared', 'hundreds feared drowned', 'hundreds migrants', 'hundreds migrants http', 'hundreds migrants mediterran', 'hundreds migrants mediterranean', 'hungry', 'hunt', 'hunters', 'hurricane', 'hurricane drought', 'hurricane guillermo', 'hurt', 'hurts', 'hw', 'hwo', 'hwo http', 'hwo http co', 'hwy', 'ian', 'ice', 'ice cream', 'icemoon', 'icemoon aftershock', 'icemoon aftershock http', 'ices', 'ices http', 'ices http co', 'id', 'idc', 'idea', 'ideas', 'idfire', 'idk', 'idp', 'idp internally', 'idp internally displaced', 'ig', 'iger', 'iger words', 'iger words wrecked', 'ignition', 'ignition knock', 'ignition knock detonation', 'ih', 'ii', 'iii', 'ik', 'ill', 'illegal', 'illegal structures', 'illegal structures international', 'im', 'im gonna', 'im screaming', 'image', 'image take', 'image take quiz', 'image typhoon', 'image typhoon soudelor', 'images', 'imagine', 'impact', 'impossible', 'impressed', 'inch', 'inch curved', 'inch curved cree', 'incident', 'incident injury', 'incident injury inner', 'include', 'including', 'increased', 'incredible', 'indeed', 'independent', 'india', 'india http', 'india http co', 'indian', 'indian express', 'indian express http', 'individuals', 'industry', 'info', 'information', 'information http', 'information http co', 'inj', 'inj http', 'inj http co', 'injured', 'injured denver', 'injured denver collision', 'injured gaza', 'injured gaza blast', 'injured http', 'injured http co', 'injured suspected', 'injured suspected militants', 'injuries', 'injuries http', 'injuries http co', 'injury', 'injury inner', 'injury inner loop', 'ink', 'inner', 'inner loop', 'inner loop exit', 'innocent', 'insane', 'inside', 'instagram', 'instead', 'insurance', 'insurer', 'insurer http', 'insurer http co', 'integrity', 'intensity', 'interest', 'interested', 'interesting', 'intern', 'internal', 'internally', 'internally displaced', 'internally displaced people', 'international', 'international conference', 'international conference centre', 'internet', 'interview', 'inundated', 'inundation', 'invalid', 'investigating', 'investigating cause', 'investigating cause http', 'investigation', 'investigators', 'investigators families', 'investigators families http', 'investigators said', 'investigators said virgin', 'investigators say', 'investigators say fatal', 'investigators shift', 'investigators shift focus', 'invoices', 'invoices make', 'invoices make stand', 'involved', 'involving', 'involving fleets', 'involving fleets totaling', 'io', 'iphone', 'ir', 'ir icemoon', 'ir icemoon aftershock', 'iran', 'iran http', 'iran http co', 'irandeal', 'iranian', 'iraq', 'irish', 'isis', 'isis terrorism', 'isis terrorism quran', 'islam', 'islam truth', 'islam truth god', 'islamic', 'islamic state', 'islamic state group', 'island', 'island french', 'island french air', 'israel', 'israel http', 'israel http co', 'israeli', 'israeli flag', 'israeli flag via', 'israeli soldiers', 'issue', 'issue http', 'issue http co', 'issued', 'issued august', 'issued august pm', 'issues', 'issues hazardous', 'issues hazardous weather', 'issues severe', 'issues severe thunderstorm', 'italian', 'italian alps', 'italy', 'itunes', 'iw', 'ja', 'jack', 'jackson', 'jacksonville', 'jake', 'jam', 'jamaica', 'james', 'jan', 'jap', 'japan', 'japan marks', 'japan marks th', 'japan still', 'japan still struggles', 'japanese', 'japanese military', 'japanese military http', 'jax', 'jay', 'jazz', 'je', 'jeans', 'jeb', 'jeb amp', 'jeb amp bush', 'jeb amp mitt', 'jeff', 'jesus', 'jet', 'jewish', 'jk', 'jl', 'job', 'job opening', 'jobs', 'jobs http', 'jobs http co', 'joe', 'john', 'join', 'join us', 'jonathan', 'jonathan plans', 'jonathan plans hijack', 'jones', 'jordan', 'joy', 'jp', 'jq', 'jr', 'jst', 'judge', 'july', 'justice', 'justinbieber', 'kaduna', 'karachi', 'kc', 'kca', 'kca votejkt', 'kca votejkt id', 'kd', 'ke', 'keep', 'keep eye', 'keeps', 'kenya', 'kept', 'kerricktrial', 'ki', 'kick', 'kicked', 'kid', 'kidnapped', 'kids', 'kiernan', 'kiernan centipede', 'kiernan centipede press', 'kill', 'kill flags', 'kill flags fast', 'kill gunman', 'killed', 'killed caused', 'killed caused damaged', 'killed exchange', 'killed exchange gunfire', 'killed http', 'killed http co', 'killed injured', 'killed kurdish', 'killed kurdish militant', 'killed least', 'killed pakistani', 'killed pakistani air', 'killed severe', 'killed severe rainstorm', 'killer', 'killer queen', 'killing', 'killing people', 'kills', 'kills saudi', 'kills saudi security', 'kills three', 'kind', 'kinda', 'kindle', 'king', 'king http', 'king http co', 'kingdom', 'kit', 'km', 'km volcano', 'km volcano hawaii', 'knee', 'knew', 'knock', 'knock detonation', 'knock detonation sensor', 'know', 'known', 'knows', 'kombat', 'kp', 'ks', 'ks http', 'ks http co', 'ksawlyux', 'ksawlyux bestnaijamade', 'ksawlyux bestnaijamade bestnaijamade', 'kurdish', 'kurdish militant', 'kurdish militant suicide', 'kurtschlichter', 'kyle', 'kz', 'la', 'la reunion', 'la reunion missing', 'lab', 'lab mishaps', 'lab mishaps http', 'lack', 'lack action', 'lack action hostages', 'laden', 'laden family', 'laden family plane', 'ladies', 'ladies shoulder', 'ladies shoulder tote', 'lady', 'lake', 'lamp', 'lamp car', 'lamp car truck', 'lamp full', 'lamp full http', 'land', 'land engulfed', 'land engulfed tribal', 'land peace', 'land peace madinah', 'land stadium', 'land stadium rescue', 'landfall', 'landing', 'landing far', 'landing far runway', 'landing violent', 'landing violent storm', 'lands', 'landslide', 'landslide italian', 'landslide italian alps', 'lane', 'lanes', 'large', 'larger', 'largest', 'last', 'last chance', 'last night', 'last week', 'last year', 'last year caused', 'late', 'later', 'latest', 'latest homes', 'latest homes razed', 'laugh', 'laughing', 'lauren', 'lava', 'lava blast', 'law', 'laws', 'ld', 'lead', 'leader', 'leaders', 'leading', 'leads', 'league', 'learn', 'learn gained', 'learn gained access', 'learning', 'learning legacy', 'learning legacy catastrophic', 'least', 'least people', 'least people killed', 'least two', 'least two people', 'leather', 'leather hobo', 'leather hobo purse', 'leave', 'leaves', 'leaving', 'led', 'led work', 'led work light', 'left', 'leg', 'legacy', 'legacy catastrophic', 'legacy catastrophic eruption', 'legal', 'legionnaires', 'legionnaires disea', 'legionnaires disea http', 'legionnaires disease', 'legionnaires families', 'legionnaires families affected', 'legit', 'len', 'leo', 'less', 'let', 'let anything', 'let anything leads', 'let desires', 'let desires control', 'let go', 'let us', 'lethal', 'lets', 'letting', 'level', 'leveled', 'leveled summer', 'leveled summer war', 'levels', 'lez', 'lez compliant', 'lez compliant ebay', 'lgbt', 'lgl', 'lh', 'library', 'library http', 'library http co', 'libya', 'libya http', 'libya http co', 'lie', 'lies', 'lies http', 'lies http co', 'life', 'life heavenly', 'life heavenly blessings', 'life http', 'life http co', 'life threatening', 'life threatening injuries', 'lifted', 'lifted town', 'lifted town roosevelt', 'light', 'light bar', 'light bar offroad', 'light offroad', 'light offroad lamp', 'lightening', 'lightning', 'lightning strike', 'lights', 'like', 'like http', 'like http co', 'like jeb', 'like jeb amp', 'like mudslide', 'like sinking', 'like tornado', 'like tsunami', 'like war', 'like war zone', 'liked', 'liked youtube', 'liked youtube video', 'likely', 'likely rise', 'likely rise top', 'lil', 'limited', 'limited edition', 'limited edition clutch', 'limited full', 'limited full http', 'line', 'link', 'link http', 'link http co', 'link reddit', 'link reddit new', 'linked', 'linked fires', 'linked fires caught', 'links', 'linkury', 'linkury browser', 'linkury browser hijacker', 'lion', 'lip', 'list', 'listed', 'listen', 'listen http', 'listen http co', 'listening', 'literally', 'little', 'little boy', 'live', 'live http', 'live http co', 'live recount', 'live recount horror', 'lives', 'lives matter', 'living', 'lk', 'lmao', 'lmfao', 'ln', 'load', 'loan', 'local', 'local arsonist', 'local http', 'local http co', 'location', 'locke', 'logo', 'lol', 'london', 'lonely', 'lonewolffur', 'long', 'longer', 'longer transport', 'longer transport bioterror', 'longest', 'longest streak', 'longest streak triple', 'look', 'look like', 'look state', 'look state actions', 'looked', 'looking', 'looks', 'looks like', 'looks like mudslide', 'looks like war', 'loop', 'loop exit', 'loop exit md', 'loose', 'looting', 'lord', 'lord amp', 'lord amp floods', 'lorries', 'lorries buses', 'lorries buses arrested', 'los', 'los angeles', 'lose', 'lose republicans', 'lose republicans like', 'losing', 'loss', 'losses', 'lost', 'lot', 'lots', 'lou', 'loud', 'loud bang', 'loud bang nearby', 'louis', 'louis vuitton', 'louis vuitton monogram', 'love', 'love love', 'love women', 'love women military', 'loved', 'lovely', 'lovely dust', 'lovely dust storm', 'loves', 'loving', 'loving feminists', 'loving feminists world', 'low', 'low self', 'low self image', 'lower', 'lowly', 'lowly king', 'lowly king http', 'lowndes', 'lowndes county', 'lt', 'lt lt', 'luck', 'lucky', 'lucky block', 'lucky block mod', 'luke', 'lulgzimbestpicts', 'lulgzimbestpicts http', 'lulgzimbestpicts http co', 'lunch', 'lungs', 'lvlh', 'lvlh awo', 'lvlh awo antioch', 'lw', 'lying', 'mac', 'machine', 'mad', 'mad max', 'mad max screenshots', 'made', 'madhya', 'madhya pradesh', 'madhya pradesh train', 'madinah', 'madinah prophetmuhammad', 'madinah prophetmuhammad islam', 'magic', 'magnum', 'magnum opus', 'magnum opus http', 'mail', 'main', 'maintenance', 'maj', 'major', 'majority', 'make', 'make landfall', 'make look', 'make stand', 'make stand colour', 'make sure', 'make way', 'makes', 'makes sense', 'making', 'malaysia', 'malaysia airlines', 'malaysia airlines abc', 'malaysia airlines http', 'malaysia confirms', 'malaysia pm', 'malaysia pm investigators', 'malaysian', 'mall', 'mama', 'man', 'man died', 'man died wings', 'man made', 'management', 'manager', 'manchester', 'manchester http', 'manchester http co', 'mansehra', 'mansion', 'mansion fire', 'mansion fire killed', 'manslaughter', 'manslaughter fatal', 'manslaughter fatal sh', 'manslaughter toddler', 'manslaughter toddler report', 'many', 'many horrible', 'many horrible subreddits', 'many lives', 'map', 'maria', 'marians', 'marians http', 'marians http co', 'mark', 'marked', 'market', 'market crash', 'market crash gems', 'market crash summer', 'marketing', 'markets', 'marks', 'marks th', 'marks th anniversary', 'marks years', 'married', 'marvel', 'mary', 'maryland', 'maryland mansion', 'maryland mansion fire', 'mass', 'mass murder', 'mass murderer', 'massacre', 'massacre http', 'massacre http co', 'massacre yazidis', 'massacre yazidis blast', 'massive', 'matako', 'match', 'materials', 'matter', 'max', 'max screenshots', 'max screenshots show', 'maximum', 'may', 'may costlier', 'may costlier bigger', 'mayan', 'mayan tablet', 'mayan tablet hieroglyphics', 'maybe', 'mayhem', 'mc', 'md', 'md georgia', 'md georgia ave', 'meals', 'meals cook', 'meals cook totally', 'mean', 'means', 'meant', 'measurement', 'measurement satellite', 'measurement satellite captures', 'meat', 'meat loving', 'meat loving feminists', 'med', 'med migrants', 'med migrants arrive', 'med rescuers', 'med rescuers search', 'media', 'medical', 'mediterran', 'mediterran http', 'mediterran http co', 'mediterranean', 'mediterranean boat', 'mediterranean boat carryi', 'meek', 'meek mill', 'meet', 'meeting', 'mega', 'meltdown', 'meltdown http', 'meltdown http co', 'member', 'members', 'memes', 'memorial', 'memories', 'memories drawn', 'memories drawn survivors', 'memories http', 'memories http co', 'memory', 'men', 'men escape', 'men escape car', 'mental', 'mention', 'mention let', 'mention let anything', 'mentions', 'mercy', 'mess', 'message', 'messenger', 'met', 'metal', 'method', 'metro', 'metro train', 'mets', 'mexico', 'mf', 'mfs', 'mg', 'mh', 'mh aircraft', 'mh aircraft debris', 'mh http', 'mh http co', 'mh malaysia', 'mh malaysia pm', 'mh relatives', 'mh relatives hope', 'mhtw', 'mhtw fnet', 'mi', 'miami', 'michael', 'michael sos', 'michigan', 'microlight', 'microlight landing', 'microlight landing far', 'microsoft', 'mid', 'middle', 'middle east', 'mido', 'might', 'migrant', 'migrant boat', 'migrant boat capsizes', 'migrants', 'migrants arrive', 'migrants arrive sicily', 'migrants http', 'migrants http co', 'migrants med', 'migrants med rescuers', 'migrants mediterran', 'migrants mediterran http', 'migrants mediterranean', 'migrants mediterranean boat', 'mike', 'mikeparractor', 'mile', 'miles', 'militant', 'militant suicide', 'militant suicide attack', 'militants', 'militants attack', 'militants attack police', 'military', 'military http', 'military http co', 'military lulgzimbestpicts', 'military lulgzimbestpicts http', 'milk', 'mill', 'million', 'millions', 'min', 'mind', 'mine', 'minecraft', 'minecraft night', 'minecraft night lucky', 'miners', 'miners released', 'miners released chile', 'miners starring', 'miners starring http', 'mini', 'mining', 'mining wd', 'mining wd flood', 'minister', 'minor', 'minority', 'mins', 'minute', 'minute http', 'minute http co', 'minutes', 'mishaps', 'mishaps http', 'mishaps http co', 'miss', 'missed', 'missing', 'missing malaysia', 'missing malaysia airlines', 'missing mh', 'missing migrants', 'missing migrants med', 'mission', 'mitigation', 'mitt', 'mitt video', 'mitt video http', 'mix', 'mj', 'mkx', 'ml', 'mlb', 'mm', 'mma', 'mn', 'mo', 'mod', 'mod bob', 'mod bob apocalypse', 'mode', 'models', 'models mayhem', 'modified', 'modified land', 'modified land stadium', 'moll', 'moll vd', 'moll vd yd', 'mom', 'moment', 'moments', 'money', 'monogram', 'monogram sophie', 'monogram sophie limited', 'month', 'months', 'mood', 'moon', 'morgan', 'morning', 'mortal', 'mortal kombat', 'mosque', 'mosque http', 'mosque http co', 'mosque reuters', 'mosque reuters http', 'mosque suicide', 'moth', 'mother', 'motor', 'motorcycle', 'motorcyclist', 'motorcyclist bicyclist', 'motorcyclist bicyclist injured', 'mount', 'mount waving', 'mount waving israeli', 'mountain', 'mountains', 'mourning', 'mourning notices', 'mourning notices stabbing', 'move', 'moved', 'movement', 'moves', 'movie', 'movie theater', 'movie theatre', 'movie trapped', 'movie trapped miners', 'movies', 'moving', 'mp', 'mp live', 'mp live recount', 'mph', 'mph hail', 'mr', 'ms', 'msf', 'mt', 'mtvhottest', 'much', 'mudslide', 'mudslide cake', 'multi', 'multiplayer', 'multiple', 'mum', 'mumbai', 'municipal', 'municipal emergency', 'municipal emergency plan', 'murder', 'murdered', 'murderer', 'murderous', 'murderous story', 'murderous story america', 'muscle', 'museum', 'music', 'music video', 'muslim', 'muslims', 'muslims temple', 'muslims temple mount', 'must', 'mx', 'myanmar', 'myanmar displaced', 'myanmar displaced rohingya', 'mystery', 'na', 'nagasaki', 'nagasaki atomic', 'nagasaki atomic bombings', 'nah', 'name', 'named', 'nasa', 'nasahurricane', 'nashville', 'nasty', 'nation', 'national', 'national forest', 'national forest stop', 'national park', 'national park services', 'natural', 'natural calamity', 'natural disaster', 'nature', 'naved', 'navy', 'navy sidelines', 'navy sidelines newest', 'nb', 'nbc', 'nc', 'nd', 'ne', 'near', 'near house', 'near house leveled', 'nearby', 'nearby appears', 'nearby appears blast', 'nearby homes', 'nearby homes http', 'nearly', 'need', 'need help', 'needed', 'needs', 'negative', 'neighbour', 'neighbour ass', 'neither', 'nema', 'network', 'never', 'new', 'new content', 'new content policy', 'new explosion', 'new explosion proof', 'new http', 'new http co', 'new ladies', 'new ladies shoulder', 'new mad', 'new mad max', 'new post', 'new video', 'new video http', 'new world', 'new york', 'new york times', 'new yorker', 'newest', 'newest subs', 'newest subs http', 'newlyweds', 'news', 'news bbc', 'news bbc cnn', 'news http', 'news http co', 'news unconfirmed', 'news unconfirmed heard', 'news update', 'newyork', 'next', 'next week', 'next year', 'nf', 'nfl', 'nh', 'ni', 'nice', 'nicki', 'nigeria', 'nigerian', 'nigerian refugees', 'nigerian refugees repatriated', 'nigga', 'niggas', 'night', 'night http', 'night http co', 'night lucky', 'night lucky block', 'nine', 'nj', 'nm', 'nnmqlz', 'nnmqlz fan', 'nnmqlz fan army', 'nobody', 'non', 'none', 'normal', 'north', 'northern', 'northern california', 'northern california http', 'northern california wildfire', 'northern marians', 'northern marians http', 'nose', 'nothing', 'notice', 'notices', 'notices stabbing', 'notices stabbing arson', 'nowplaying', 'np', 'nq', 'nr', 'ns', 'nsfw', 'nt', 'nu', 'nuclear', 'nuclear bomb', 'nuclear deal', 'nuclear disaster', 'nuclear disaster http', 'nuclear power', 'nuclear reactor', 'nuclear weapon', 'nuclear weapons', 'nuke', 'number', 'numbered', 'numbered limited', 'numbered limited full', 'numbers', 'nurse', 'nursing', 'nursing job', 'nv', 'nw', 'nws', 'nws http', 'nws http co', 'nx', 'ny', 'nyc', 'nytimes', 'nz', 'oa', 'obama', 'obama declares', 'obama declares disaster', 'obama signs', 'obama signs disaster', 'obliterate', 'obliterate planned', 'obliterate planned parenthood', 'obliterated', 'obliterated http', 'obliterated http co', 'obliteration', 'obliteration ancient', 'obliteration ancient canaanites', 'oc', 'oc shared', 'oc shared link', 'occasion', 'occurred', 'occurred star', 'occurred star involving', 'ocean', 'odd', 'odds', 'odeon', 'odeon cinema', 'odeon cinema evacuated', 'offensive', 'offensive communities', 'offensive communities http', 'offensive content', 'offensive content http', 'offensive content reddit', 'offer', 'offers', 'office', 'officer', 'officer wounded', 'officer wounded suspect', 'officers', 'official', 'official video', 'officially', 'officials', 'officials alabama', 'officials alabama home', 'officials say', 'offroad', 'offroad fog', 'offroad fog lamp', 'offroad lamp', 'offroad lamp car', 'often', 'oh', 'oh god', 'ohio', 'oil', 'oil gas', 'oil spill', 'oil spill estimate', 'oil spill may', 'ok', 'ok pm', 'okay', 'oklahoma', 'oklahoma ok', 'okwx', 'ol', 'old', 'old boy', 'old boy charged', 'old pkk', 'old pkk suicide', 'olympic', 'omg', 'one', 'one day', 'one direction', 'one direction pick', 'one man', 'one thing', 'ones', 'online', 'onto', 'oo', 'oops', 'op', 'open', 'opened', 'opening', 'opens', 'operation', 'operations', 'opinion', 'opposite', 'oppressions', 'oppressions greatest', 'oppressions greatest danger', 'option', 'options', 'opus', 'opus http', 'opus http co', 'oq', 'orange', 'order', 'order lifted', 'order lifted town', 'order obliteration', 'order obliteration ancient', 'orders', 'orders evacuation', 'orders evacuation abandoned', 'org', 'original', 'os', 'ot', 'others', 'otherwise', 'otrametlife', 'ou', 'outbreak', 'outbreak http', 'outbreak http co', 'outbreak legionnaires', 'outbreak legionnaires disea', 'outbreak legionnaires disease', 'outdoor', 'outlook', 'outlook hwo', 'outlook hwo http', 'outrage', 'outrage amid', 'outrage amid crisis', 'outside', 'ov', 'overnight', 'ow', 'owner', 'owner chicago', 'owner chicago area', 'owners', 'ox', 'oz', 'pace', 'pacific', 'pack', 'packs', 'page', 'pain', 'painting', 'pak', 'pakistan', 'pakistani', 'pakistani air', 'pakistani air ambulance', 'palestine', 'palestinian', 'palestinians', 'palms', 'pam', 'pamela', 'pamela geller', 'pamela geller http', 'pandemonium', 'pandemonium aba', 'pandemonium aba woman', 'pandemonium http', 'pandemonium http co', 'panic', 'panic attack', 'panic disco', 'panicking', 'panicking cable', 'panicking cable tv', 'pantherattack', 'paper', 'parenthood', 'parents', 'parents colorado', 'parents colorado theater', 'park', 'park services', 'park services tonto', 'parking', 'parking lot', 'parley', 'parley canyon', 'parley canyon crews', 'parole', 'parole california', 'parole california school', 'parole school', 'parole school bus', 'part', 'parts', 'party', 'pass', 'passed', 'passenger', 'passengers', 'passengers evacuated', 'passing', 'past', 'past anniversary', 'past anniversary devastation', 'path', 'pathogens', 'pathogens http', 'pathogens http co', 'patience', 'patience jonathan', 'patience jonathan plans', 'patient', 'patrick', 'paul', 'pay', 'pay pile', 'pb', 'pbban', 'pbban temporary', 'pc', 'pcs', 'pcs cree', 'pcs cree led', 'pdp', 'pdp http', 'pdp http co', 'pe', 'peace', 'peace madinah', 'peace madinah prophetmuhammad', 'peace upon', 'peace upon said', 'peaceful', 'peanut', 'peanut butter', 'people', 'people dead', 'people dead houses', 'people died', 'people died human', 'people finally', 'people finally panicking', 'people horror', 'people horror etc', 'people http', 'people http co', 'people killed', 'people killed severe', 'people rioting', 'people taken', 'people want', 'pepper', 'percent', 'perfect', 'perhaps', 'period', 'person', 'personal', 'persons', 'petition', 'pg', 'ph', 'philippines', 'philly', 'phoenix', 'phone', 'phone realise', 'phone realise whole', 'phones', 'photo', 'photo bombed', 'photography', 'photos', 'photos http', 'photos http co', 'physical', 'pic', 'pic yr', 'pic yr old', 'pick', 'pick http', 'pick http co', 'picked', 'picking', 'picking bodies', 'picking bodies water', 'pics', 'picture', 'piece', 'piece wreckage', 'pieces', 'pile', 'piling', 'pilot', 'pilots', 'pin', 'pipe', 'pipeline', 'pk', 'pkk', 'pkk suicide', 'pkk suicide bomber', 'place', 'places', 'plague', 'plaguing', 'plains', 'plains american', 'plains american pipeline', 'plan', 'plan http', 'plan http co', 'plane', 'plane crashed', 'plane crashed avoiding', 'plane debris', 'plane debris missing', 'plane landing', 'plane landing violent', 'planet', 'planned', 'planned parenthood', 'planning', 'plans', 'plans former', 'plans former first', 'plans hijack', 'plans hijack apc', 'plant', 'planted', 'plate', 'play', 'played', 'player', 'players', 'playing', 'playlist', 'playlist http', 'playlist http co', 'playoffs', 'please', 'please favorite', 'please favorite amp', 'please rt', 'plot', 'pls', 'plug', 'plug christmas', 'plug christmas tree', 'plunging', 'plunging water', 'plunging water called', 'plus', 'pm', 'pm cdt', 'pm cdt august', 'pm cdt http', 'pm cdt nws', 'pm edt', 'pm edt nws', 'pm http', 'pm http co', 'pm investigators', 'pm investigators families', 'pm pm', 'po', 'pockets', 'point', 'point return', 'point return http', 'points', 'police', 'police chief', 'police http', 'police http co', 'police investigating', 'police kill', 'police kill gunman', 'police officer', 'police officer wounded', 'police officers', 'police post', 'police post spos', 'policy', 'policy goes', 'policy goes effect', 'policy promises', 'policy promises quarantine', 'political', 'politics', 'politics grief', 'politics grief israel', 'poll', 'poll tension', 'poll tension bayelsa', 'pond', 'pool', 'poor', 'pop', 'population', 'porn', 'port', 'portland', 'positive', 'possible', 'possible ebola', 'possible ebola case', 'possible http', 'possible http co', 'post', 'post http', 'post http co', 'post spos', 'post spos injured', 'posted', 'posts', 'potential', 'potential bioterror', 'potential bioterror pathogens', 'potus', 'potus strategicpatience', 'potus strategicpatience strategy', 'pov', 'poverty', 'power', 'power red', 'power red pantherattack', 'powerful', 'powerlines', 'pp', 'ppl', 'practice', 'pradesh', 'pradesh train', 'pradesh train derailment', 'pray', 'pray attack', 'pray attack enemy', 'pre', 'prebreak', 'prebreak best', 'precipitation', 'precipitation measurement', 'precipitation measurement satellite', 'predict', 'predicted', 'prefer', 'pregnant', 'prepare', 'prepare catastrophe', 'prepared', 'preparedness', 'preparedness library', 'preparedness library http', 'pres', 'present', 'president', 'press', 'press signed', 'press signed numbered', 'pressure', 'pretty', 'pretty much', 'prevent', 'preview', 'previous', 'previously', 'price', 'prices', 'primary', 'prime', 'prime minister', 'prince', 'print', 'prior', 'prison', 'prison like', 'private', 'pro', 'probably', 'probe', 'problem', 'problems', 'produced', 'profile', 'profit', 'program', 'program http', 'program http co', 'progress', 'project', 'projected', 'projected http', 'projected http co', 'promise', 'promises', 'promises quarantine', 'promises quarantine extremely', 'prompts', 'proof', 'proof tempered', 'proof tempered glass', 'property', 'property casualty', 'property damage', 'prophet', 'prophet peace', 'prophet peace upon', 'prophetmuhammad', 'prophetmuhammad islam', 'prosecuted', 'prosecuted fukushima', 'prosecuted fukushima nuclear', 'protect', 'protector', 'protector film', 'protector film blackberry', 'protest', 'providence', 'providence health', 'providence health amp', 'provoke', 'provoke outrage', 'provoke outrage amid', 'ps', 'psychiatric', 'pt', 'ptsd', 'pu', 'public', 'pull', 'pulled', 'pulls', 'pump', 'pun', 'purple', 'purse', 'purse cross', 'purse cross body', 'pussy', 'put', 'putin', 'putting', 'pw', 'py', 'qa', 'qc', 'qew', 'qew xd', 'qew xd view', 'qj', 'qn', 'qo', 'qr', 'quality', 'quarantine', 'quarantine extremely', 'quarantine extremely offensive', 'quarantine offensive', 'quarantine offensive content', 'quarantined', 'quarantined http', 'quarantined http co', 'quarantined possible', 'quarantined possible ebola', 'queen', 'question', 'questions', 'quick', 'quickly', 'quite', 'quiz', 'quiz http', 'quiz http co', 'quote', 'quran', 'quran lies', 'quran lies http', 'qv', 'ra', 'race', 'racist', 'radar', 'radiation', 'radio', 'rage', 'raid', 'rail', 'rail crash', 'rain', 'raining', 'rains', 'rainstorm', 'rainstorm destroys', 'rainstorm destroys houses', 'rally', 'ramag', 'ramag fashion', 'ramag fashion models', 'ran', 'random', 'range', 'rape', 'rapidly', 'rare', 'rate', 'rather', 'ray', 'raynbowaffair', 'raynbowaffair editor', 'raynbowaffair editor chief', 'razed', 'razed northern', 'razed northern california', 'rb', 'rc', 'rd', 'rd http', 'rd http co', 'rea', 'rea http', 'rea http co', 'reach', 'reaching', 'reactor', 'read', 'read ebay', 'read ebay http', 'read http', 'read http co', 'reading', 'ready', 'real', 'realdonaldtrump', 'realise', 'realise whole', 'realise whole time', 'reality', 'reality training', 'reality training train', 'realize', 'realized', 'really', 'reap', 'rear', 'reason', 'reasons', 'reasons love', 'reasons love women', 'recall', 'recalls', 'recent', 'recently', 'recognize', 'recommend', 'record', 'record hurricane', 'record hurricane drought', 'recount', 'recount horror', 'recount horror saw', 'recover', 'recovery', 'red', 'red light', 'red pantherattack', 'reddit', 'reddit co', 'reddit co founder', 'reddit new', 'reddit new content', 'reddit quarantine', 'reddit quarantine offensive', 'reddit updates', 'reddit updates content', 'reduce', 'reduce civilian', 'reduce civilian casualties', 'reduced', 'refugee', 'refugees', 'refugees idp', 'refugees idp internally', 'refugees repatriated', 'refugees repatriated cameroon', 'refugio', 'refugio oil', 'refugio oil spill', 'region', 'register', 'regular', 'reid', 'related', 'relatives', 'relatives hope', 'relatives hope discovery', 'relax', 'release', 'released', 'released chile', 'released chile hollywood', 'released chile http', 'released http', 'released http co', 'releases', 'releases issue', 'releases issue http', 'relief', 'relief materials', 'remain', 'remains', 'remember', 'remember time', 'remembered', 'remembering', 'reminds', 'remove', 'remove http', 'remove http co', 'reno', 'rep', 'repair', 'repatriated', 'repatriated cameroon', 'repatriated cameroon http', 'replace', 'replacing', 'report', 'report says', 'report says flames', 'report year', 'report year old', 'reported', 'reportedly', 'reportedly killed', 'reporting', 'reports', 'reports http', 'reports http co', 'republican', 'republicans', 'republicans like', 'republicans like jeb', 'rescue', 'rescue hostages', 'rescue hostages iran', 'rescue oc', 'rescue oc shared', 'rescued', 'rescued med', 'rescued med migrants', 'rescuers', 'rescuers search', 'rescuers search survivors', 'rescuers searching', 'rescuers searching hundreds', 'research', 'residential', 'residential area', 'residents', 'resistant', 'respect', 'respond', 'responders', 'responds', 'response', 'responsibility', 'responsible', 'rest', 'restore', 'restricted', 'result', 'resulted', 'results', 'return', 'return http', 'return http co', 'reunion', 'reunion island', 'reunion island french', 'reunion missing', 'reunion missing malaysia', 'reuters', 'reuters http', 'reuters http co', 'revealed', 'reveals', 'review', 'review http', 'review http co', 'reviews', 'revolution', 'reward', 'rexyy', 'ri', 'richard', 'richmond', 'richmond police', 'richmond police officer', 'rid', 'ride', 'rider', 'ridge', 'ridiculous', 'right', 'right http', 'right http co', 'rights', 'ring', 'riot', 'riot grill', 'riot grill arrived', 'rioting', 'riots', 'rip', 'rise', 'rise top', 'rise top pay', 'rises', 'rising', 'risk', 'river', 'river wild', 'river wild horse', 'rk', 'rly', 'rly tragedy', 'rly tragedy mp', 'rn', 'ro', 'road', 'roads', 'rob', 'robert', 'robot', 'robots', 'robots could', 'robots could reduce', 'rock', 'rockin', 'rocks', 'rocky', 'rocky fire', 'rockyfire', 'rohingya', 'rohingya sittwe', 'rohingya sittwe point', 'roll', 'rolling', 'romance', 'rome', 'roof', 'room', 'roosevelt', 'roosevelt wash', 'root', 'rose', 'ross', 'ross dead', 'round', 'route', 'row', 'rqwuoy', 'rqwuoy fm', 'rs', 'rt', 'rt abbswinston', 'rt abbswinston zionist', 'rt http', 'rt http co', 'rt new', 'rt new video', 'rubber', 'rubble', 'rubble china', 'rubble china stock', 'rubble http', 'rubble http co', 'ruin', 'ruin life', 'rule', 'rules', 'rules changes', 'rules changes windstorm', 'run', 'runner', 'running', 'runs', 'runway', 'russia', 'russian', 'russian food', 'russian food crematoria', 'rv', 'ry', 'sa', 'sac', 'sacramento', 'sad', 'sadly', 'safe', 'safer', 'safety', 'said', 'said save', 'said save hellfire', 'said virgin', 'said virgin galactic', 'saipan', 'saipan obama', 'saipan obama signs', 'sale', 'salem', 'salt', 'salt river', 'salt river wild', 'salvador', 'san', 'sanctions', 'sandiego', 'sandstorm', 'sandstorm minute', 'sandstorm minute http', 'santa', 'sarah', 'sat', 'satchel', 'satellite', 'satellite captures', 'satellite captures image', 'saturday', 'saudi', 'saudi arabia', 'saudi mosque', 'saudi security', 'saudi security site', 'save', 'save hellfire', 'save hellfire even', 'saved', 'saved many', 'saved many lives', 'saving', 'saw', 'saw coaches', 'saw coaches train', 'say', 'say fatal', 'say fatal virgin', 'say http', 'say http co', 'saying', 'says', 'says flames', 'says spending', 'says spending half', 'sb', 'scared', 'scary', 'scene', 'schedule', 'scheme', 'scheme http', 'scheme http co', 'school', 'school bus', 'school bus hijacker', 'science', 'scientists', 'score', 'scott', 'screamed', 'screaming', 'screams', 'screen', 'screen protector', 'screen protector film', 'screenshots', 'screenshots show', 'screenshots show lovely', 'se', 'sea', 'search', 'search survivors', 'search survivors boat', 'searching', 'searching hundreds', 'searching hundreds migrants', 'season', 'seat', 'seattle', 'second', 'seconds', 'secret', 'secrets', 'secrets top', 'secrets top earners', 'section', 'security', 'security site', 'security site mosque', 'see', 'seeing', 'seek', 'seeks', 'seeks comment', 'seeks comment rules', 'seems', 'seen', 'sees', 'seismic', 'seismic intensity', 'seismic shift', 'seismic shift gabon', 'self', 'self harm', 'self image', 'self image take', 'selfie', 'senate', 'senator', 'send', 'send data', 'send data sound', 'sending', 'senior', 'sense', 'senso', 'senso standard', 'senso standard ks', 'sensor', 'sensor connector', 'sensor senso', 'sensor senso standard', 'sent', 'sentinel', 'sentinel http', 'sentinel http co', 'september', 'serial', 'series', 'serious', 'seriously', 'served', 'service', 'service center', 'service http', 'service http co', 'service says', 'service says spending', 'services', 'services http', 'services http co', 'services tonto', 'services tonto national', 'set', 'set ablaze', 'sets', 'setting', 'settlement', 'seven', 'several', 'severe', 'severe rainstorm', 'severe thunderstorm', 'severe thunderstorm warning', 'severe weather', 'sex', 'sexual', 'sf', 'sh', 'shadow', 'shall', 'shame', 'shape', 'shape likely', 'shape likely rise', 'share', 'shared', 'shared link', 'shares', 'sharp', 'sharp rise', 'shelter', 'shepherd', 'shepherd rescue', 'shepherd rescue oc', 'shift', 'shift focus', 'shift focus cause', 'shift gabon', 'shift gabon somalia', 'ship', 'shipping', 'ships', 'ships destroyed', 'shirt', 'shit', 'shoes', 'shooting', 'shooting victim', 'shooting victim fear', 'shop', 'short', 'shot', 'shots', 'shots http', 'shots http co', 'shots richmond', 'shoulder', 'shoulder bags', 'shoulder cross', 'shoulder cross body', 'shoulder handbags', 'shoulder tote', 'shoulder tote handbag', 'show', 'show lovely', 'show lovely dust', 'shower', 'shows', 'shows plane', 'shows plane landing', 'shut', 'sicily', 'sick', 'side', 'sidelines', 'sidelines newest', 'sidelines newest subs', 'sign', 'sign petition', 'signed', 'signed numbered', 'signed numbered limited', 'signs', 'signs disaster', 'signs disaster declaration', 'silence', 'silent', 'silver', 'silver spring', 'simple', 'simulate', 'simulate chemical', 'simulate chemical explosion', 'since', 'sing', 'singing', 'single', 'sinjar', 'sinjar massacre', 'sinjar massacre yazidis', 'sinkhole', 'sinkhole opens', 'sinkhole swallows', 'sinking', 'sinking feeling', 'sinking feeling home', 'sinking ship', 'sir', 'siren', 'sirens', 'sismo', 'sismo detectado', 'sismo detectado jap', 'sismo km', 'sister', 'sit', 'site', 'site mosque', 'site mosque http', 'site mosque reuters', 'sitting', 'sittwe', 'sittwe point', 'sittwe point return', 'situation', 'six', 'sixth', 'size', 'sized', 'sj', 'skin', 'skinny', 'sky', 'slanglucci', 'slanglucci oppressions', 'slanglucci oppressions greatest', 'sleep', 'sleeping', 'sleeping sirens', 'slide', 'slightly', 'slow', 'small', 'smash', 'smaug', 'smh', 'smithsonian', 'smoke', 'smoking', 'sn', 'snap', 'snow', 'snowstorm', 'social', 'social casualty', 'social media', 'socialnews', 'socialnews http', 'socialnews http co', 'society', 'solar', 'soldiers', 'solution', 'somalia', 'somebody', 'somehow', 'someone', 'something', 'sometimes', 'son', 'song', 'soon', 'soon album', 'soon album https', 'soon https', 'soon https co', 'sophie', 'sophie limited', 'sophie limited edition', 'sorry', 'sort', 'sos', 'soudelor', 'soudelor nasahurricane', 'soudelor taking', 'soudelor taking dead', 'soul', 'sound', 'sound waves', 'sound waves black', 'soundcloud', 'sounds', 'sounds like', 'source', 'sources', 'south', 'south sac', 'southampton', 'southern', 'sp', 'sp http', 'sp http co', 'space', 'space battle', 'space battle occurred', 'spaceship', 'spaceship crash', 'spaceship crash caused', 'spaceship crash last', 'spanish', 'sparked', 'sparks', 'speaker', 'speaking', 'special', 'specially', 'specially modified', 'specially modified land', 'specif', 'specif http', 'specif http co', 'specimens', 'spend', 'spending', 'spending half', 'spending half budget', 'spent', 'spider', 'spill', 'spill estimate', 'spill estimate grows', 'spill may', 'spill may costlier', 'spirit', 'sport', 'sports', 'spos', 'spos injured', 'spos injured http', 'spos injured suspected', 'spot', 'spot flood', 'spot flood combo', 'spring', 'spring oil', 'spring oil spill', 'springs', 'sprinter', 'sprinter automatic', 'sprinter automatic frontline', 'sq', 'squad', 'sr', 'st', 'st http', 'st http co', 'stabbing', 'stabbing arson', 'stabbing arson victims', 'stadium', 'stadium rescue', 'stadium rescue hostages', 'staff', 'stage', 'stand', 'stand colour', 'stand colour shape', 'stand user', 'stand user detonate', 'standard', 'standard ks', 'standard ks http', 'stands', 'star', 'star involving', 'star involving fleets', 'star wars', 'starring', 'starring http', 'starring http co', 'stars', 'start', 'started', 'starter', 'starting', 'starts', 'state', 'state actions', 'state actions year', 'state group', 'state http', 'state http co', 'statement', 'statement issued', 'statement issued august', 'states', 'station', 'status', 'stay', 'stay tuned', 'stealing', 'steel', 'step', 'stephen', 'steps', 'stereo', 'steve', 'steve huffman', 'steve huffman unveiled', 'still', 'still burning', 'still felt', 'still felt today', 'still struggles', 'still struggles war', 'stir', 'stir politics', 'stir politics grief', 'stock', 'stock http', 'stock http co', 'stock market', 'stock market crash', 'stone', 'stop', 'stop annihilation', 'stop annihilation salt', 'stopped', 'stops', 'store', 'stories', 'storm', 'storm combat', 'storm combat magnum', 'storm http', 'storm http co', 'storms', 'story', 'story america', 'story america first', 'story http', 'story http co', 'straight', 'stranded', 'strange', 'strategicpatience', 'strategicpatience strategy', 'strategicpatience strategy genocide', 'strategy', 'strategy genocide', 'strategy genocide refugees', 'streak', 'streak triple', 'streak triple digit', 'stream', 'street', 'street http', 'street http co', 'streets', 'stress', 'stretcher', 'stretcher min', 'strike', 'strikes', 'strong', 'strong thunderstorm', 'struck', 'structural', 'structural failure', 'structural failure co', 'structure', 'structures', 'structures international', 'structures international conference', 'struggles', 'struggles war', 'struggles war past', 'stuart', 'stuart broad', 'stuck', 'student', 'students', 'study', 'stuff', 'stupid', 'style', 'sub', 'subject', 'subreddits', 'subreddits banned', 'subreddits banned quarantined', 'subs', 'subs http', 'subs http co', 'success', 'sucks', 'sue', 'sue legionnaires', 'sue legionnaires families', 'suffer', 'suffering', 'suicide', 'suicide attack', 'suicide attack http', 'suicide bomb', 'suicide bomber', 'suicide bomber detonated', 'suicide bomber kills', 'suicide bombing', 'suicide bombing http', 'suicide bombing saudi', 'suicide http', 'suicide http co', 'summer', 'summer sparked', 'summer war', 'summerfate', 'sun', 'sunday', 'sunk', 'sunset', 'super', 'supervisor', 'support', 'supposed', 'sure', 'surf', 'surface', 'surge', 'surprise', 'surprised', 'surrounded', 'surrounded desires', 'surrounded desires careful', 'survival', 'survive', 'survive without', 'survived', 'survivors', 'survivors boat', 'survivors boat carrying', 'survivors http', 'survivors http co', 'suspect', 'suspect dead', 'suspect dead exchanging', 'suspect killed', 'suspect killed exchange', 'suspect linked', 'suspect linked fires', 'suspected', 'suspected militants', 'suv', 'sw', 'swallowed', 'swallowed sandstorm', 'swallowed sandstorm minute', 'swallows', 'swansea', 'sweet', 'swim', 'swimming', 'sy', 'sydney', 'syria', 'syrian', 'syrian refugees', 'system', 'table', 'tablet', 'tablet hieroglyphics', 'tablet hieroglyphics honors', 'tag', 'taiwan', 'taiwan expected', 'taiwan expected make', 'taiwan http', 'taiwan http co', 'take', 'take look', 'take quiz', 'take quiz http', 'taken', 'takes', 'takes seismic', 'takes seismic shift', 'taking', 'taking dead', 'taking dead aim', 'talk', 'talking', 'tank', 'target', 'targeting', 'taste', 'tax', 'tb', 'tbt', 'tc', 'tcot', 'te', 'tea', 'team', 'teams', 'tears', 'tech', 'technology', 'ted', 'ted cruz', 'ted cruz fires', 'teen', 'tell', 'telling', 'tells', 'temper', 'tempered', 'tempered glass', 'tempered glass screen', 'temple', 'temple mount', 'temple mount waving', 'temporary', 'ten', 'tennessee', 'tension', 'tension bayelsa', 'tension bayelsa patience', 'tent', 'tent collapse', 'tent collapse story', 'term', 'terrible', 'terror', 'terror attack', 'terror attack militants', 'terrorism', 'terrorism quran', 'terrorism quran lies', 'terrorist', 'terrorist http', 'terrorist http co', 'terrorists', 'test', 'texas', 'texas seeks', 'texas seeks comment', 'text', 'tf', 'tg', 'th', 'th anniversary', 'th anniversary hiroshima', 'th http', 'th http co', 'thank', 'thank god', 'thanks', 'thats', 'theater', 'theater attack', 'theater shooting', 'theater shooting victim', 'theatre', 'theory', 'theres', 'thin', 'thing', 'things', 'think', 'think mention', 'think mention let', 'thinking', 'third', 'tho', 'thomas', 'though', 'thought', 'thoughts', 'thousand', 'thousands', 'thoyhrhkfj', 'thoyhrhkfj fan', 'thoyhrhkfj fan army', 'threat', 'threatening', 'threatening injuries', 'threatens', 'threatens kill', 'threats', 'three', 'three people', 'three people killed', 'thriller', 'throw', 'throwing', 'thru', 'thunder', 'thunder lightning', 'thunderstorm', 'thunderstorm warning', 'thunderstorm warning oklahoma', 'thunderstorm warning wind', 'thunderstorms', 'thursday', 'thus', 'thx', 'tickets', 'til', 'till', 'time', 'time http', 'time http co', 'time utc', 'time utc http', 'times', 'times http', 'times http co', 'tips', 'tired', 'title', 'tj', 'tl', 'tm', 'tn', 'today', 'today http', 'today http co', 'todd', 'toddler', 'toddler report', 'toddler report year', 'together', 'toilet', 'told', 'toll', 'tom', 'tomorrow', 'tomorrow night', 'tongue', 'tongue twister', 'tonight', 'tons', 'tonto', 'tonto national', 'tonto national forest', 'took', 'tools', 'top', 'top earners', 'top earners amp', 'top link', 'top link reddit', 'top pay', 'top pay pile', 'torch', 'tornado', 'tornadoes', 'toronto', 'total', 'totaling', 'totaling ships', 'totaling ships destroyed', 'totally', 'totally obliterated', 'totally obliterated http', 'tote', 'tote handbag', 'tote handbag faux', 'touch', 'tough', 'tour', 'toward', 'towards', 'towel', 'town', 'town roosevelt', 'township', 'township fire', 'township fire truck', 'tp', 'tr', 'track', 'tracking', 'tracks', 'tracks windstorm', 'tracks windstorm http', 'traditional', 'traffic', 'trafford', 'trafford centre', 'trafford centre film', 'tragedy', 'tragedy mp', 'tragedy mp live', 'trailer', 'train', 'train derail', 'train derailed', 'train derailment', 'train derailment village', 'train falls', 'train falls elevated', 'train http', 'train http co', 'train plunging', 'train plunging water', 'train wreck', 'training', 'training train', 'training train falls', 'trains', 'trains derail', 'trains derailment', 'trains derailment freakiest', 'tram', 'transit', 'transport', 'transport bioterror', 'transport bioterror germs', 'trap', 'trapmusic', 'trapmusic dnb', 'trapmusic dnb edm', 'trapped', 'trapped miners', 'trapped miners released', 'trapped miners starring', 'trauma', 'traumatised', 'travel', 'travel guide', 'treat', 'treatment', 'tree', 'tree report', 'tree report says', 'trees', 'trench', 'trench released', 'trench released http', 'trent', 'trent bridge', 'trfc', 'trfc collision', 'trfc collision inj', 'trial', 'tribal', 'tribal war', 'tribal war turned', 'tried', 'triggered', 'trip', 'triple', 'triple digit', 'triple digit heat', 'trolley', 'trolley service', 'troops', 'troops killed', 'troops killed kurdish', 'tropical', 'tropical cyclone', 'trouble', 'truck', 'truck boat', 'truck boat mining', 'truck fire', 'truck used', 'truck used philippines', 'trucks', 'true', 'truly', 'trump', 'trust', 'truth', 'truth god', 'truth god isis', 'truth https', 'truth https co', 'try', 'trying', 'tryna', 'tsunami', 'tu', 'tube', 'tube strike', 'tubestrike', 'tuesday', 'tuned', 'turbine', 'turkey', 'turkey army', 'turkey army trench', 'turkish', 'turkish couple', 'turkish troops', 'turkish troops killed', 'turn', 'turned', 'turned land', 'turned land peace', 'turns', 'tutorial', 'tv', 'tv http', 'tv http co', 'tw', 'tweet', 'tweets', 'twelve', 'twelve feared', 'twelve feared killed', 'twice', 'twin', 'twins', 'twister', 'twitter', 'two', 'two buildings', 'two cars', 'two giant', 'two giant cranes', 'two people', 'two people dead', 'two trains', 'ty', 'type', 'typhoon', 'typhoon devastated', 'typhoon devastated saipan', 'typhoon soudelor', 'typhoon soudelor nasahurricane', 'typhoon soudelor taking', 'ub', 'ud', 'udhampur', 'udhampur terror', 'udhampur terror attack', 'ue', 'ugh', 'ugly', 'uk', 'ukraine', 'ul', 'ultimate', 'ultimate preparedness', 'ultimate preparedness library', 'um', 'un', 'unconfirmed', 'unconfirmed heard', 'unconfirmed heard loud', 'understand', 'understanding', 'underway', 'union', 'unit', 'unit japanese', 'unit japanese military', 'united', 'united states', 'units', 'units simulate', 'units simulate chemical', 'universe', 'university', 'unless', 'unlocked', 'unlocking', 'unsafe', 'unsafe hazardous', 'unsuckdcmetro', 'unveiled', 'unveiled specif', 'unveiled specif http', 'update', 'updated', 'updates', 'updates content', 'updates content policy', 'upheaval', 'upheaval http', 'upheaval http co', 'upon', 'upon said', 'upon said save', 'upper', 'upset', 'ur', 'ur destiny', 'ur destiny blocked', 'ur life', 'ur life heavenly', 'uribe', 'us', 'us earthquake', 'us earthquake amp', 'us http', 'us http co', 'us navy', 'us navy sidelines', 'usa', 'usagov', 'usagov auth', 'usatoday', 'use', 'used', 'used explode', 'used explode home', 'used philippines', 'user', 'user detonate', 'user detonate killer', 'users', 'uses', 'usgs', 'usgs eq', 'usgs eq km', 'using', 'usual', 'usually', 'ut', 'utc', 'utc http', 'utc http co', 'utter', 'uv', 'ux', 'va', 'vacant', 'val', 'valley', 'values', 'van', 'vancouver', 'vd', 'vd yd', 'vegas', 'vehicle', 'vehicle choice', 'vehicle choice lez', 'vehicles', 'version', 'veterans', 'vets', 'vg', 'vi', 'via', 'via change', 'via http', 'via http co', 'via pamela', 'via pamela geller', 'via usatoday', 'via worldnetdaily', 'via youtube', 'victim', 'victim fear', 'victim fear copycat', 'victims', 'victims stir', 'victims stir politics', 'victory', 'video', 'video captures', 'video http', 'video http co', 'video https', 'video https co', 'video picking', 'video picking bodies', 'video shows', 'video shows plane', 'video youtube', 'video youtube playlist', 'videos', 'vietnam', 'view', 'view download', 'view download video', 'village', 'village youth', 'village youth saved', 'villages', 'vine', 'vintage', 'vinyl', 'violence', 'violent', 'violent landing', 'violent storm', 'violent storm http', 'viralspell', 'virgin', 'virgin galactic', 'virgin galactic crash', 'virgin galactic spaceship', 'visit', 'viwxy', 'viwxy xdyk', 'vn', 'voice', 'volcano', 'volcano hawaii', 'volcano hawaii time', 'volcano http', 'volcano http co', 'vote', 'vote http', 'vote http co', 'votejkt', 'votejkt id', 'vq', 'vs', 'vuitton', 'vuitton monogram', 'vuitton monogram sophie', 'vulnerable', 'vvplfqv', 'vvplfqv http', 'vvplfqv http co', 'vz', 'wa', 'wa http', 'wa http co', 'waimate', 'waimate fire', 'waimate fire http', 'wait', 'waiting', 'wake', 'wake anthrax', 'wake anthrax lab', 'walk', 'walker', 'walking', 'wall', 'walmart', 'wanna', 'want', 'want think', 'want think mention', 'want work', 'wanted', 'wanting', 'wants', 'war', 'war past', 'war past anniversary', 'war turned', 'war turned land', 'war zone', 'warfighting', 'warfighting robots', 'warfighting robots could', 'warming', 'warn', 'warned', 'warning', 'warning issued', 'warning oklahoma', 'warning wind', 'warning wind mph', 'warnings', 'warns', 'wars', 'warship', 'wash', 'washed', 'washington', 'washington post', 'waste', 'watch', 'watch airport', 'watch airport get', 'watched', 'watching', 'water', 'water called', 'water called http', 'water rescuers', 'water rescuers searching', 'wave', 'waves', 'waves black', 'waves black hat', 'waving', 'waving israeli', 'waving israeli flag', 'way', 'ways', 'wb', 'wc', 'wd', 'wd flood', 'wd flood beam', 'weak', 'wealth', 'weapon', 'weapons', 'weapons http', 'weapons http co', 'wearing', 'weather', 'weather outlook', 'weather outlook hwo', 'weather statement', 'weather statement issued', 'website', 'wed', 'wedding', 'wedding day', 'wednesday', 'weed', 'week', 'weekend', 'weeks', 'weight', 'weird', 'welcome', 'well', 'well done', 'went', 'west', 'west bank', 'western', 'wet', 'wf', 'whao', 'whats', 'whether', 'whirlwind', 'white', 'white http', 'white http co', 'white mass', 'white mass murderer', 'white people', 'whole', 'whole time', 'wholesale', 'wht', 'wi', 'wicked', 'wife', 'wild', 'wild fires', 'wild fires http', 'wild horse', 'wild horse https', 'wildfire', 'wildfire abc', 'wildfire abc news', 'wildfire http', 'wildfire http co', 'wildfires', 'williams', 'willing', 'win', 'wind', 'wind mph', 'wind mph hail', 'wind neighbour', 'wind neighbour ass', 'window', 'windows', 'winds', 'windstorm', 'windstorm http', 'windstorm http co', 'windstorm insurer', 'windstorm insurer http', 'wings', 'wings airplane', 'wings airplane http', 'wins', 'winston', 'winter', 'wire', 'wired', 'wired reddit', 'wired reddit quarantine', 'wireless', 'wisenews', 'wisenews china', 'wisenews china stock', 'wish', 'wither', 'wither amp', 'within', 'without', 'without face', 'without face photos', 'wk', 'wmata', 'wo', 'woke', 'woman', 'woman crush', 'woman delivers', 'woman delivers baby', 'women', 'women military', 'women military lulgzimbestpicts', 'womens', 'womens http', 'womens http co', 'wonder', 'wonderful', 'wondering', 'wont', 'word', 'words', 'words wrecked', 'words wrecked disney', 'work', 'work light', 'work light bar', 'work light offroad', 'worked', 'workers', 'working', 'world', 'world news', 'world riot', 'world riot grill', 'world war', 'worldnetdaily', 'worldnews', 'worldnews http', 'worldnews http co', 'worlds', 'worlds collide', 'worried', 'worry', 'worse', 'worst', 'worstsummerjob', 'worth', 'would', 'would explode', 'would get', 'would say', 'wound', 'wounded', 'wounded suspect', 'wounded suspect dead', 'wounded suspect killed', 'wounds', 'wow', 'wq', 'wr', 'wreck', 'wreck http', 'wreck http co', 'wreckage', 'wreckage conclusively', 'wreckage conclusively confirmed', 'wreckage flight', 'wreckage flight mh', 'wrecked', 'wrecked disney', 'wrecked disney stock', 'wrecked http', 'wrecked http co', 'write', 'writer', 'writing', 'written', 'wrong', 'wrought', 'wrought http', 'wrought http co', 'wtf', 'wvj', 'wvj bgm', 'ww', 'wwii', 'www', 'wx', 'wy', 'xb', 'xbox', 'xc', 'xd', 'xd view', 'xd view download', 'xdyk', 'xk', 'xn', 'xp', 'xp reason', 'xq', 'xr', 'xsx', 'xv', 'xw', 'ya', 'yahoo', 'yall', 'yay', 'yazidis', 'yazidis blast', 'yazidis blast lack', 'yb', 'yd', 'yea', 'yeah', 'year', 'year caused', 'year caused structural', 'year ferguson', 'year ferguson upheaval', 'year http', 'year http co', 'year old', 'year old boy', 'years', 'years ago', 'years ago today', 'years atomic', 'years atomic bombs', 'years http', 'years http co', 'years since', 'yes', 'yesterday', 'yet', 'yh', 'yi', 'yn', 'yo', 'yobe', 'york', 'york times', 'york times http', 'yorker', 'young', 'youngheroesid', 'youngheroesid lava', 'youngheroesid lava blast', 'youth', 'youth saved', 'youth saved many', 'youtube', 'youtube http', 'youtube http co', 'youtube playlist', 'youtube playlist http', 'youtube video', 'youtube video http', 'yr', 'yr old', 'yr old pkk', 'yrs', 'ys', 'yu', 'yx', 'yyc', 'za', 'zionist', 'zionist terrorist', 'zl', 'zo', 'zombie', 'zombie apocalypse', 'zone', 'zouma', 'zq', 'zujwuiomb', 'zujwuiomb http', 'zujwuiomb http co', 'zx', 'zz']\n"
     ]
    },
    {
     "data": {
      "text/plain": [
       "6357"
      ]
     },
     "execution_count": 167,
     "metadata": {},
     "output_type": "execute_result"
    }
   ],
   "source": [
    "vocab = vectorizer.get_feature_names()\n",
    "print(vocab)\n",
    "len(vectorizer.vocabulary_)"
   ]
  },
  {
   "cell_type": "markdown",
   "metadata": {},
   "source": [
    "Now we can use **.transform** on our Bag-of-Words (bow) transformed object and transform the entire DataFrame of tweets. Let's go ahead and check out how the bag-of-words counts for the entire text corpus is a large, sparse matrix:"
   ]
  },
  {
   "cell_type": "code",
   "execution_count": 168,
   "metadata": {},
   "outputs": [],
   "source": [
    "text_bow = vectorizer.transform(df['tokens'])"
   ]
  },
  {
   "cell_type": "code",
   "execution_count": 169,
   "metadata": {},
   "outputs": [],
   "source": [
    "#text_bow = bow_transformer.transform(df['text'])"
   ]
  },
  {
   "cell_type": "code",
   "execution_count": 170,
   "metadata": {},
   "outputs": [
    {
     "name": "stdout",
     "output_type": "stream",
     "text": [
      "Shape of Sparse Matrix:  (7613, 6357)\n",
      "Amount of Non-Zero occurences:  82661\n"
     ]
    }
   ],
   "source": [
    "print('Shape of Sparse Matrix: ', text_bow.shape)\n",
    "print('Amount of Non-Zero occurences: ', text_bow.nnz)"
   ]
  },
  {
   "cell_type": "code",
   "execution_count": 171,
   "metadata": {},
   "outputs": [
    {
     "name": "stdout",
     "output_type": "stream",
     "text": [
      "sparsity: 0\n"
     ]
    }
   ],
   "source": [
    "sparsity = (100.0 * text_bow.nnz / (text_bow.shape[0] * text_bow.shape[1]))\n",
    "print('sparsity: {}'.format(round(sparsity)))"
   ]
  },
  {
   "cell_type": "markdown",
   "metadata": {},
   "source": [
    "### Term Weighting and Normalization with TF-IDF "
   ]
  },
  {
   "cell_type": "code",
   "execution_count": 172,
   "metadata": {},
   "outputs": [],
   "source": [
    "from sklearn.feature_extraction.text import TfidfTransformer\n",
    "\n",
    "tfidf_transformer = TfidfTransformer().fit(text_bow)"
   ]
  },
  {
   "cell_type": "code",
   "execution_count": 173,
   "metadata": {},
   "outputs": [
    {
     "name": "stdout",
     "output_type": "stream",
     "text": [
      "(7613, 6357)\n"
     ]
    }
   ],
   "source": [
    "text_tfidf = tfidf_transformer.transform(text_bow)\n",
    "print(text_tfidf.shape)"
   ]
  },
  {
   "cell_type": "code",
   "execution_count": 43,
   "metadata": {},
   "outputs": [
    {
     "data": {
      "text/plain": [
       "<1x9 sparse matrix of type '<class 'numpy.float64'>'\n",
       "\twith 0 stored elements in Compressed Sparse Row format>"
      ]
     },
     "execution_count": 43,
     "metadata": {},
     "output_type": "execute_result"
    }
   ],
   "source": []
  },
  {
   "cell_type": "markdown",
   "metadata": {},
   "source": [
    "## Training a Model"
   ]
  },
  {
   "cell_type": "markdown",
   "metadata": {},
   "source": [
    "We'll be using scikit-learn here, choosing the __Naive Bayes__ classifier to start with:"
   ]
  },
  {
   "cell_type": "code",
   "execution_count": 174,
   "metadata": {},
   "outputs": [],
   "source": [
    "from sklearn.naive_bayes import MultinomialNB\n",
    "disaster_detect_model = MultinomialNB().fit(text_tfidf, df['target'])"
   ]
  },
  {
   "cell_type": "code",
   "execution_count": 175,
   "metadata": {},
   "outputs": [
    {
     "name": "stdout",
     "output_type": "stream",
     "text": [
      "people receive wildfires evacuation orders california\n"
     ]
    }
   ],
   "source": [
    "text4 = df['tokens'][3]\n",
    "print(text4)"
   ]
  },
  {
   "cell_type": "code",
   "execution_count": 176,
   "metadata": {},
   "outputs": [
    {
     "name": "stdout",
     "output_type": "stream",
     "text": [
      "  (0, 758)\t1\n",
      "  (0, 1801)\t1\n",
      "  (0, 4038)\t1\n",
      "  (0, 4165)\t1\n",
      "  (0, 6138)\t1\n",
      "(1, 6357)\n"
     ]
    }
   ],
   "source": [
    "bow4 = vectorizer.transform([text4])\n",
    "#bow4 = bow_transformer.transform([text4])\n",
    "print(bow4)\n",
    "print(bow4.shape)"
   ]
  },
  {
   "cell_type": "code",
   "execution_count": 177,
   "metadata": {},
   "outputs": [
    {
     "name": "stdout",
     "output_type": "stream",
     "text": [
      "  (0, 6138)\t0.5371552692188608\n",
      "  (0, 4165)\t0.33196215608839025\n",
      "  (0, 4038)\t0.5309563888813501\n",
      "  (0, 1801)\t0.4292855060337904\n",
      "  (0, 758)\t0.3675113754578888\n"
     ]
    }
   ],
   "source": [
    "tfidf4 = tfidf_transformer.transform(bow4)\n",
    "print(tfidf4)"
   ]
  },
  {
   "cell_type": "code",
   "execution_count": 178,
   "metadata": {},
   "outputs": [
    {
     "name": "stdout",
     "output_type": "stream",
     "text": [
      "predicted: 1\n",
      "expected: 1\n"
     ]
    }
   ],
   "source": [
    "print('predicted:', disaster_detect_model.predict(tfidf4)[0])\n",
    "print('expected:', df.target[3])"
   ]
  },
  {
   "cell_type": "markdown",
   "metadata": {},
   "source": [
    "## Model Evaluation\n"
   ]
  },
  {
   "cell_type": "code",
   "execution_count": 179,
   "metadata": {},
   "outputs": [
    {
     "name": "stdout",
     "output_type": "stream",
     "text": [
      "[1 1 1 ... 1 1 1]\n"
     ]
    }
   ],
   "source": [
    "all_predictions = disaster_detect_model.predict(text_tfidf)\n",
    "print(all_predictions)"
   ]
  },
  {
   "cell_type": "code",
   "execution_count": 180,
   "metadata": {},
   "outputs": [
    {
     "name": "stdout",
     "output_type": "stream",
     "text": [
      "              precision    recall  f1-score   support\n",
      "\n",
      "           0       0.81      0.95      0.88      4342\n",
      "           1       0.92      0.71      0.80      3271\n",
      "\n",
      "    accuracy                           0.85      7613\n",
      "   macro avg       0.87      0.83      0.84      7613\n",
      "weighted avg       0.86      0.85      0.84      7613\n",
      "\n"
     ]
    }
   ],
   "source": [
    "from sklearn.metrics import classification_report, confusion_matrix\n",
    "print (classification_report(df['target'], all_predictions))"
   ]
  },
  {
   "cell_type": "markdown",
   "metadata": {},
   "source": [
    "## Train Test Split"
   ]
  },
  {
   "cell_type": "code",
   "execution_count": 181,
   "metadata": {},
   "outputs": [
    {
     "name": "stdout",
     "output_type": "stream",
     "text": [
      "6090 1523 7613\n"
     ]
    }
   ],
   "source": [
    "from sklearn.model_selection import train_test_split\n",
    "\n",
    "tweets_train, tweets_test, target_train, target_test = \\\n",
    "train_test_split(df['text'], df['target'], test_size=0.2, random_state=101)\n",
    "\n",
    "print(len(tweets_train), len(tweets_test), len(target_train) + len(target_test))"
   ]
  },
  {
   "cell_type": "markdown",
   "metadata": {},
   "source": [
    "#### Creating a data pipeline"
   ]
  },
  {
   "cell_type": "code",
   "execution_count": 186,
   "metadata": {},
   "outputs": [],
   "source": [
    "from sklearn.pipeline import Pipeline\n",
    "\n",
    "pipeline = Pipeline([\n",
    "    ('bow', vectorizer),  # strings to token integer counts\n",
    "    ('tfidf', TfidfTransformer()),  # integer counts to weighted TF-IDF scores\n",
    "    ('classifier', MultinomialNB()),  # train on TF-IDF vectors w/ Naive Bayes classifier\n",
    "])"
   ]
  },
  {
   "cell_type": "code",
   "execution_count": 187,
   "metadata": {},
   "outputs": [
    {
     "data": {
      "text/plain": [
       "Pipeline(memory=None,\n",
       "         steps=[('bow',\n",
       "                 CountVectorizer(analyzer='word', binary=False,\n",
       "                                 decode_error='strict',\n",
       "                                 dtype=<class 'numpy.int64'>, encoding='utf-8',\n",
       "                                 input='content', lowercase=True, max_df=0.5,\n",
       "                                 max_features=None, min_df=0.0005,\n",
       "                                 ngram_range=(1, 3), preprocessor=None,\n",
       "                                 stop_words=None, strip_accents=None,\n",
       "                                 token_pattern='(?u)\\\\b\\\\w\\\\w+\\\\b',\n",
       "                                 tokenizer=None, vocabulary=None)),\n",
       "                ('tfidf',\n",
       "                 TfidfTransformer(norm='l2', smooth_idf=True,\n",
       "                                  sublinear_tf=False, use_idf=True)),\n",
       "                ('classifier',\n",
       "                 MultinomialNB(alpha=1.0, class_prior=None, fit_prior=True))],\n",
       "         verbose=False)"
      ]
     },
     "execution_count": 187,
     "metadata": {},
     "output_type": "execute_result"
    }
   ],
   "source": [
    "pipeline.fit(tweets_train,target_train)"
   ]
  },
  {
   "cell_type": "code",
   "execution_count": 188,
   "metadata": {},
   "outputs": [],
   "source": [
    "predictions = pipeline.predict(tweets_test)"
   ]
  },
  {
   "cell_type": "code",
   "execution_count": 189,
   "metadata": {},
   "outputs": [
    {
     "name": "stdout",
     "output_type": "stream",
     "text": [
      "              precision    recall  f1-score   support\n",
      "\n",
      "           0       0.92      0.77      0.84      1074\n",
      "           1       0.60      0.84      0.70       449\n",
      "\n",
      "    accuracy                           0.79      1523\n",
      "   macro avg       0.76      0.80      0.77      1523\n",
      "weighted avg       0.83      0.79      0.80      1523\n",
      "\n"
     ]
    }
   ],
   "source": [
    "print(classification_report(predictions,target_test))"
   ]
  },
  {
   "cell_type": "code",
   "execution_count": 195,
   "metadata": {},
   "outputs": [],
   "source": [
    "# If using random forest classifier:\n",
    "from sklearn.ensemble import RandomForestClassifier\n",
    "\n",
    "pipeline_rf = Pipeline([\n",
    "    ('bow', vectorizer),\n",
    "    ('tfidf', TfidfTransformer()),\n",
    "    ('classifier', RandomForestClassifier())\n",
    "])"
   ]
  },
  {
   "cell_type": "code",
   "execution_count": 196,
   "metadata": {},
   "outputs": [],
   "source": [
    "# Create the training and testing sets again\n",
    "tweets_train, tweets_test, target_train, target_test = \\\n",
    "train_test_split(df['text'], df['target'], test_size=0.2, random_state=101)"
   ]
  },
  {
   "cell_type": "code",
   "execution_count": 197,
   "metadata": {},
   "outputs": [
    {
     "name": "stderr",
     "output_type": "stream",
     "text": [
      "/Users/jennie/opt/anaconda3/lib/python3.7/site-packages/sklearn/ensemble/forest.py:245: FutureWarning: The default value of n_estimators will change from 10 in version 0.20 to 100 in 0.22.\n",
      "  \"10 in version 0.20 to 100 in 0.22.\", FutureWarning)\n"
     ]
    },
    {
     "data": {
      "text/plain": [
       "Pipeline(memory=None,\n",
       "         steps=[('bow',\n",
       "                 CountVectorizer(analyzer='word', binary=False,\n",
       "                                 decode_error='strict',\n",
       "                                 dtype=<class 'numpy.int64'>, encoding='utf-8',\n",
       "                                 input='content', lowercase=True, max_df=0.5,\n",
       "                                 max_features=None, min_df=0.0005,\n",
       "                                 ngram_range=(1, 3), preprocessor=None,\n",
       "                                 stop_words=None, strip_accents=None,\n",
       "                                 token_pattern='(?u)\\\\b\\\\w\\\\w+\\\\b',\n",
       "                                 tokenizer=None, vocabulary...\n",
       "                 RandomForestClassifier(bootstrap=True, class_weight=None,\n",
       "                                        criterion='gini', max_depth=None,\n",
       "                                        max_features='auto',\n",
       "                                        max_leaf_nodes=None,\n",
       "                                        min_impurity_decrease=0.0,\n",
       "                                        min_impurity_split=None,\n",
       "                                        min_samples_leaf=1, min_samples_split=2,\n",
       "                                        min_weight_fraction_leaf=0.0,\n",
       "                                        n_estimators=10, n_jobs=None,\n",
       "                                        oob_score=False, random_state=None,\n",
       "                                        verbose=0, warm_start=False))],\n",
       "         verbose=False)"
      ]
     },
     "execution_count": 197,
     "metadata": {},
     "output_type": "execute_result"
    }
   ],
   "source": [
    "pipeline_rf.fit(tweets_train, target_train)"
   ]
  },
  {
   "cell_type": "code",
   "execution_count": 198,
   "metadata": {},
   "outputs": [],
   "source": [
    "rf_pred = pipeline_rf.predict(tweets_test)"
   ]
  },
  {
   "cell_type": "code",
   "execution_count": 199,
   "metadata": {},
   "outputs": [
    {
     "name": "stdout",
     "output_type": "stream",
     "text": [
      "              precision    recall  f1-score   support\n",
      "\n",
      "           0       0.91      0.76      0.83      1069\n",
      "           1       0.59      0.82      0.68       454\n",
      "\n",
      "    accuracy                           0.77      1523\n",
      "   macro avg       0.75      0.79      0.75      1523\n",
      "weighted avg       0.81      0.77      0.78      1523\n",
      "\n"
     ]
    }
   ],
   "source": [
    "print(classification_report(rf_pred,target_test))"
   ]
  },
  {
   "cell_type": "code",
   "execution_count": null,
   "metadata": {},
   "outputs": [],
   "source": []
  }
 ],
 "metadata": {
  "kernelspec": {
   "display_name": "Python 3",
   "language": "python",
   "name": "python3"
  },
  "language_info": {
   "codemirror_mode": {
    "name": "ipython",
    "version": 3
   },
   "file_extension": ".py",
   "mimetype": "text/x-python",
   "name": "python",
   "nbconvert_exporter": "python",
   "pygments_lexer": "ipython3",
   "version": "3.7.4"
  }
 },
 "nbformat": 4,
 "nbformat_minor": 4
}
